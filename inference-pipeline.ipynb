{
 "cells": [
  {
   "cell_type": "code",
   "execution_count": 1,
   "id": "b3bfb4c7-cd60-418e-af4d-1a5571fcd579",
   "metadata": {},
   "outputs": [
    {
     "name": "stdout",
     "output_type": "stream",
     "text": [
      "Collecting sentence_transformers\n",
      "  Downloading sentence-transformers-2.2.2.tar.gz (85 kB)\n",
      "     ---------------------------------------- 86.0/86.0 kB 2.4 MB/s eta 0:00:00\n",
      "  Preparing metadata (setup.py): started\n",
      "  Preparing metadata (setup.py): finished with status 'done'\n",
      "Collecting transformers<5.0.0,>=4.6.0\n",
      "  Downloading transformers-4.36.1-py3-none-any.whl (8.3 MB)\n",
      "     ---------------------------------------- 8.3/8.3 MB 4.6 MB/s eta 0:00:00\n",
      "Requirement already satisfied: tqdm in c:\\users\\anil\\anaconda3\\lib\\site-packages (from sentence_transformers) (4.64.1)\n",
      "Requirement already satisfied: torch>=1.6.0 in c:\\users\\anil\\anaconda3\\lib\\site-packages (from sentence_transformers) (2.0.1)\n",
      "Collecting torchvision\n",
      "  Downloading torchvision-0.16.2-cp39-cp39-win_amd64.whl (1.1 MB)\n",
      "     ---------------------------------------- 1.1/1.1 MB 4.2 MB/s eta 0:00:00\n",
      "Requirement already satisfied: numpy in c:\\users\\anil\\anaconda3\\lib\\site-packages (from sentence_transformers) (1.21.6)\n",
      "Requirement already satisfied: scikit-learn in c:\\users\\anil\\anaconda3\\lib\\site-packages (from sentence_transformers) (1.2.2)\n",
      "Requirement already satisfied: scipy in c:\\users\\anil\\anaconda3\\lib\\site-packages (from sentence_transformers) (1.9.1)\n",
      "Requirement already satisfied: nltk in c:\\users\\anil\\anaconda3\\lib\\site-packages (from sentence_transformers) (3.7)\n",
      "Collecting sentencepiece\n",
      "  Downloading sentencepiece-0.1.99-cp39-cp39-win_amd64.whl (977 kB)\n",
      "     -------------------------------------- 977.6/977.6 kB 5.1 MB/s eta 0:00:00\n",
      "Collecting huggingface-hub>=0.4.0\n",
      "  Downloading huggingface_hub-0.19.4-py3-none-any.whl (311 kB)\n",
      "     -------------------------------------- 311.7/311.7 kB 3.9 MB/s eta 0:00:00\n",
      "Requirement already satisfied: packaging>=20.9 in c:\\users\\anil\\anaconda3\\lib\\site-packages (from huggingface-hub>=0.4.0->sentence_transformers) (21.3)\n",
      "Requirement already satisfied: typing-extensions>=3.7.4.3 in c:\\users\\anil\\anaconda3\\lib\\site-packages (from huggingface-hub>=0.4.0->sentence_transformers) (4.3.0)\n",
      "Collecting fsspec>=2023.5.0\n",
      "  Downloading fsspec-2023.12.2-py3-none-any.whl (168 kB)\n",
      "     -------------------------------------- 169.0/169.0 kB 5.0 MB/s eta 0:00:00\n",
      "Requirement already satisfied: requests in c:\\users\\anil\\anaconda3\\lib\\site-packages (from huggingface-hub>=0.4.0->sentence_transformers) (2.28.1)\n",
      "Requirement already satisfied: filelock in c:\\users\\anil\\anaconda3\\lib\\site-packages (from huggingface-hub>=0.4.0->sentence_transformers) (3.6.0)\n",
      "Requirement already satisfied: pyyaml>=5.1 in c:\\users\\anil\\anaconda3\\lib\\site-packages (from huggingface-hub>=0.4.0->sentence_transformers) (6.0)\n",
      "Requirement already satisfied: jinja2 in c:\\users\\anil\\anaconda3\\lib\\site-packages (from torch>=1.6.0->sentence_transformers) (2.11.3)\n",
      "Requirement already satisfied: networkx in c:\\users\\anil\\anaconda3\\lib\\site-packages (from torch>=1.6.0->sentence_transformers) (2.8.4)\n",
      "Requirement already satisfied: sympy in c:\\users\\anil\\anaconda3\\lib\\site-packages (from torch>=1.6.0->sentence_transformers) (1.10.1)\n",
      "Requirement already satisfied: colorama in c:\\users\\anil\\anaconda3\\lib\\site-packages (from tqdm->sentence_transformers) (0.4.5)\n",
      "Collecting tokenizers<0.19,>=0.14\n",
      "  Downloading tokenizers-0.15.0-cp39-none-win_amd64.whl (2.2 MB)\n",
      "     ---------------------------------------- 2.2/2.2 MB 5.0 MB/s eta 0:00:00\n",
      "Collecting safetensors>=0.3.1\n",
      "  Downloading safetensors-0.4.1-cp39-none-win_amd64.whl (277 kB)\n",
      "     -------------------------------------- 277.8/277.8 kB 4.3 MB/s eta 0:00:00\n",
      "Requirement already satisfied: regex!=2019.12.17 in c:\\users\\anil\\anaconda3\\lib\\site-packages (from transformers<5.0.0,>=4.6.0->sentence_transformers) (2022.7.9)\n",
      "Requirement already satisfied: click in c:\\users\\anil\\anaconda3\\lib\\site-packages (from nltk->sentence_transformers) (8.0.4)\n",
      "Requirement already satisfied: joblib in c:\\users\\anil\\anaconda3\\lib\\site-packages (from nltk->sentence_transformers) (1.2.0)\n",
      "Requirement already satisfied: threadpoolctl>=2.0.0 in c:\\users\\anil\\anaconda3\\lib\\site-packages (from scikit-learn->sentence_transformers) (2.2.0)\n",
      "Requirement already satisfied: pillow!=8.3.*,>=5.3.0 in c:\\users\\anil\\anaconda3\\lib\\site-packages (from torchvision->sentence_transformers) (9.2.0)\n",
      "Collecting torch>=1.6.0\n",
      "  Downloading torch-2.1.2-cp39-cp39-win_amd64.whl (192.2 MB)\n",
      "     -------------------------------------- 192.2/192.2 MB 2.3 MB/s eta 0:00:00\n",
      "Requirement already satisfied: pyparsing!=3.0.5,>=2.0.2 in c:\\users\\anil\\anaconda3\\lib\\site-packages (from packaging>=20.9->huggingface-hub>=0.4.0->sentence_transformers) (3.0.9)\n",
      "Requirement already satisfied: MarkupSafe>=0.23 in c:\\users\\anil\\anaconda3\\lib\\site-packages (from jinja2->torch>=1.6.0->sentence_transformers) (2.0.1)\n",
      "Requirement already satisfied: certifi>=2017.4.17 in c:\\users\\anil\\anaconda3\\lib\\site-packages (from requests->huggingface-hub>=0.4.0->sentence_transformers) (2022.9.14)\n",
      "Requirement already satisfied: urllib3<1.27,>=1.21.1 in c:\\users\\anil\\anaconda3\\lib\\site-packages (from requests->huggingface-hub>=0.4.0->sentence_transformers) (1.26.11)\n",
      "Requirement already satisfied: idna<4,>=2.5 in c:\\users\\anil\\anaconda3\\lib\\site-packages (from requests->huggingface-hub>=0.4.0->sentence_transformers) (3.3)\n",
      "Requirement already satisfied: charset-normalizer<3,>=2 in c:\\users\\anil\\anaconda3\\lib\\site-packages (from requests->huggingface-hub>=0.4.0->sentence_transformers) (2.0.4)\n",
      "Requirement already satisfied: mpmath>=0.19 in c:\\users\\anil\\anaconda3\\lib\\site-packages (from sympy->torch>=1.6.0->sentence_transformers) (1.2.1)\n",
      "Building wheels for collected packages: sentence_transformers\n",
      "  Building wheel for sentence_transformers (setup.py): started\n",
      "  Building wheel for sentence_transformers (setup.py): finished with status 'done'\n",
      "  Created wheel for sentence_transformers: filename=sentence_transformers-2.2.2-py3-none-any.whl size=125925 sha256=eb31a102bf04317bf61412c94741f63608e01484fe0da5e51e25d9d89a48d45c\n",
      "  Stored in directory: c:\\users\\anil\\appdata\\local\\pip\\cache\\wheels\\71\\67\\06\\162a3760c40d74dd40bc855d527008d26341c2b0ecf3e8e11f\n",
      "Successfully built sentence_transformers\n",
      "Installing collected packages: sentencepiece, safetensors, fsspec, torch, huggingface-hub, torchvision, tokenizers, transformers, sentence_transformers\n",
      "  Attempting uninstall: fsspec\n",
      "    Found existing installation: fsspec 2022.7.1\n",
      "    Uninstalling fsspec-2022.7.1:\n",
      "      Successfully uninstalled fsspec-2022.7.1\n",
      "  Attempting uninstall: torch\n",
      "    Found existing installation: torch 2.0.1\n",
      "    Uninstalling torch-2.0.1:\n",
      "      Successfully uninstalled torch-2.0.1\n",
      "Successfully installed fsspec-2023.12.2 huggingface-hub-0.19.4 safetensors-0.4.1 sentence_transformers-2.2.2 sentencepiece-0.1.99 tokenizers-0.15.0 torch-2.1.2 torchvision-0.16.2 transformers-4.36.1\n"
     ]
    },
    {
     "name": "stderr",
     "output_type": "stream",
     "text": [
      "WARNING: Ignoring invalid distribution -rotobuf (c:\\users\\anil\\anaconda3\\lib\\site-packages)\n",
      "WARNING: Ignoring invalid distribution -rotobuf (c:\\users\\anil\\anaconda3\\lib\\site-packages)\n",
      "WARNING: Ignoring invalid distribution -rotobuf (c:\\users\\anil\\anaconda3\\lib\\site-packages)\n",
      "    WARNING: Ignoring invalid distribution -rotobuf (c:\\users\\anil\\anaconda3\\lib\\site-packages)\n",
      "    WARNING: Ignoring invalid distribution -rotobuf (c:\\users\\anil\\anaconda3\\lib\\site-packages)\n",
      "WARNING: Ignoring invalid distribution -rotobuf (c:\\users\\anil\\anaconda3\\lib\\site-packages)\n",
      "WARNING: Ignoring invalid distribution -rotobuf (c:\\users\\anil\\anaconda3\\lib\\site-packages)\n",
      "WARNING: Ignoring invalid distribution -rotobuf (c:\\users\\anil\\anaconda3\\lib\\site-packages)\n",
      "WARNING: Ignoring invalid distribution -rotobuf (c:\\users\\anil\\anaconda3\\lib\\site-packages)\n",
      "WARNING: Ignoring invalid distribution -rotobuf (c:\\users\\anil\\anaconda3\\lib\\site-packages)\n",
      "WARNING: Ignoring invalid distribution -rotobuf (c:\\users\\anil\\anaconda3\\lib\\site-packages)\n",
      "WARNING: Ignoring invalid distribution -rotobuf (c:\\users\\anil\\anaconda3\\lib\\site-packages)\n",
      "WARNING: Ignoring invalid distribution -rotobuf (c:\\users\\anil\\anaconda3\\lib\\site-packages)\n",
      "WARNING: Ignoring invalid distribution -rotobuf (c:\\users\\anil\\anaconda3\\lib\\site-packages)\n",
      "WARNING: Ignoring invalid distribution -rotobuf (c:\\users\\anil\\anaconda3\\lib\\site-packages)\n",
      "WARNING: Ignoring invalid distribution -rotobuf (c:\\users\\anil\\anaconda3\\lib\\site-packages)\n",
      "WARNING: Ignoring invalid distribution -rotobuf (c:\\users\\anil\\anaconda3\\lib\\site-packages)\n"
     ]
    }
   ],
   "source": [
    "!pip install sentence_transformers"
   ]
  },
  {
   "cell_type": "code",
   "execution_count": 1,
   "id": "765ee036-6660-4f03-bbc8-e4aa1b64cc6c",
   "metadata": {},
   "outputs": [],
   "source": [
    "import pandas as pd\n",
    "%load_ext autoreload\n",
    "import numpy as np"
   ]
  },
  {
   "cell_type": "code",
   "execution_count": 2,
   "id": "ef8d36ed-e922-49c3-85b2-af93fb37856d",
   "metadata": {},
   "outputs": [],
   "source": [
    "news_df = pd.read_csv('./data/war-news.csv', engine='python')"
   ]
  },
  {
   "cell_type": "code",
   "execution_count": 3,
   "id": "41707d50-3be6-4d55-bb8e-05186bd7da40",
   "metadata": {},
   "outputs": [
    {
     "data": {
      "text/html": [
       "<div>\n",
       "<style scoped>\n",
       "    .dataframe tbody tr th:only-of-type {\n",
       "        vertical-align: middle;\n",
       "    }\n",
       "\n",
       "    .dataframe tbody tr th {\n",
       "        vertical-align: top;\n",
       "    }\n",
       "\n",
       "    .dataframe thead th {\n",
       "        text-align: right;\n",
       "    }\n",
       "</style>\n",
       "<table border=\"1\" class=\"dataframe\">\n",
       "  <thead>\n",
       "    <tr style=\"text-align: right;\">\n",
       "      <th></th>\n",
       "      <th>Unnamed: 0</th>\n",
       "      <th>Headlines</th>\n",
       "      <th>Summary</th>\n",
       "      <th>Press</th>\n",
       "      <th>Date</th>\n",
       "      <th>Keyword</th>\n",
       "    </tr>\n",
       "  </thead>\n",
       "  <tbody>\n",
       "    <tr>\n",
       "      <th>0</th>\n",
       "      <td>0</td>\n",
       "      <td>I served in Iraq and Afghanistan but the horro...</td>\n",
       "      <td>A WAR hero traumatised by the horrors of comba...</td>\n",
       "      <td>The Sun</td>\n",
       "      <td>1 day ago</td>\n",
       "      <td>Afghanistan</td>\n",
       "    </tr>\n",
       "    <tr>\n",
       "      <th>1</th>\n",
       "      <td>1</td>\n",
       "      <td>The forever war in Afghanistan is nowhere near...</td>\n",
       "      <td>Islamic State is seeking to overthrow the Tali...</td>\n",
       "      <td>ThePrint</td>\n",
       "      <td>2 weeks ago</td>\n",
       "      <td>Afghanistan</td>\n",
       "    </tr>\n",
       "    <tr>\n",
       "      <th>2</th>\n",
       "      <td>2</td>\n",
       "      <td>Hell at Abbey Gate: Chaos, Confusion and Death...</td>\n",
       "      <td>In firsthand accounts, Afghan civilians and U....</td>\n",
       "      <td>ProPublica</td>\n",
       "      <td>1 month ago</td>\n",
       "      <td>Afghanistan</td>\n",
       "    </tr>\n",
       "    <tr>\n",
       "      <th>3</th>\n",
       "      <td>3</td>\n",
       "      <td>‘A second Afghanistan’: Doubts over Russia’s w...</td>\n",
       "      <td>Russia's lack of progress in its war against U...</td>\n",
       "      <td>Al Jazeera</td>\n",
       "      <td>5 days ago</td>\n",
       "      <td>Afghanistan</td>\n",
       "    </tr>\n",
       "    <tr>\n",
       "      <th>4</th>\n",
       "      <td>4</td>\n",
       "      <td>Afghanistan: Former army general vows new war ...</td>\n",
       "      <td>Lt Gen Sami Sadat tells the BBC of planned ope...</td>\n",
       "      <td>BBC</td>\n",
       "      <td>1 week ago</td>\n",
       "      <td>Afghanistan</td>\n",
       "    </tr>\n",
       "    <tr>\n",
       "      <th>...</th>\n",
       "      <td>...</td>\n",
       "      <td>...</td>\n",
       "      <td>...</td>\n",
       "      <td>...</td>\n",
       "      <td>...</td>\n",
       "      <td>...</td>\n",
       "    </tr>\n",
       "    <tr>\n",
       "      <th>5649</th>\n",
       "      <td>216</td>\n",
       "      <td>We first cut rations in half. Now, we'll take ...</td>\n",
       "      <td>We first cut rations in half. Now, we'll take ...</td>\n",
       "      <td>USA Today</td>\n",
       "      <td>1 month ago</td>\n",
       "      <td>Yemen</td>\n",
       "    </tr>\n",
       "    <tr>\n",
       "      <th>5650</th>\n",
       "      <td>217</td>\n",
       "      <td>Yemen war: Two foreign Doctors Without Borders...</td>\n",
       "      <td>The conflict began in 2014 after Houthi rebels...</td>\n",
       "      <td>Middle East Eye</td>\n",
       "      <td>6 Mar 2022</td>\n",
       "      <td>Yemen</td>\n",
       "    </tr>\n",
       "    <tr>\n",
       "      <th>5651</th>\n",
       "      <td>218</td>\n",
       "      <td>Devastated by war, Yemen's still surviving oil...</td>\n",
       "      <td>Yemen's oil and gas industry could be at a cro...</td>\n",
       "      <td>S&amp;P Global</td>\n",
       "      <td>12 Aug 2021</td>\n",
       "      <td>Yemen</td>\n",
       "    </tr>\n",
       "    <tr>\n",
       "      <th>5652</th>\n",
       "      <td>219</td>\n",
       "      <td>Deconstructed: Gas Price Politics And Genocide...</td>\n",
       "      <td>Since we last covered the war in Yemen on this...</td>\n",
       "      <td>The Intercept</td>\n",
       "      <td>11 Feb 2022</td>\n",
       "      <td>Yemen</td>\n",
       "    </tr>\n",
       "    <tr>\n",
       "      <th>5653</th>\n",
       "      <td>\u001a</td>\n",
       "      <td>None</td>\n",
       "      <td>None</td>\n",
       "      <td>None</td>\n",
       "      <td>None</td>\n",
       "      <td>None</td>\n",
       "    </tr>\n",
       "  </tbody>\n",
       "</table>\n",
       "<p>5654 rows × 6 columns</p>\n",
       "</div>"
      ],
      "text/plain": [
       "     Unnamed: 0                                          Headlines  \\\n",
       "0             0  I served in Iraq and Afghanistan but the horro...   \n",
       "1             1  The forever war in Afghanistan is nowhere near...   \n",
       "2             2  Hell at Abbey Gate: Chaos, Confusion and Death...   \n",
       "3             3  ‘A second Afghanistan’: Doubts over Russia’s w...   \n",
       "4             4  Afghanistan: Former army general vows new war ...   \n",
       "...         ...                                                ...   \n",
       "5649        216  We first cut rations in half. Now, we'll take ...   \n",
       "5650        217  Yemen war: Two foreign Doctors Without Borders...   \n",
       "5651        218  Devastated by war, Yemen's still surviving oil...   \n",
       "5652        219  Deconstructed: Gas Price Politics And Genocide...   \n",
       "5653          \u001a                                               None   \n",
       "\n",
       "                                                Summary            Press  \\\n",
       "0     A WAR hero traumatised by the horrors of comba...          The Sun   \n",
       "1     Islamic State is seeking to overthrow the Tali...         ThePrint   \n",
       "2     In firsthand accounts, Afghan civilians and U....       ProPublica   \n",
       "3     Russia's lack of progress in its war against U...       Al Jazeera   \n",
       "4     Lt Gen Sami Sadat tells the BBC of planned ope...              BBC   \n",
       "...                                                 ...              ...   \n",
       "5649  We first cut rations in half. Now, we'll take ...        USA Today   \n",
       "5650  The conflict began in 2014 after Houthi rebels...  Middle East Eye   \n",
       "5651  Yemen's oil and gas industry could be at a cro...       S&P Global   \n",
       "5652  Since we last covered the war in Yemen on this...    The Intercept   \n",
       "5653                                               None             None   \n",
       "\n",
       "             Date      Keyword  \n",
       "0       1 day ago  Afghanistan  \n",
       "1     2 weeks ago  Afghanistan  \n",
       "2     1 month ago  Afghanistan  \n",
       "3      5 days ago  Afghanistan  \n",
       "4      1 week ago  Afghanistan  \n",
       "...           ...          ...  \n",
       "5649  1 month ago        Yemen  \n",
       "5650   6 Mar 2022        Yemen  \n",
       "5651  12 Aug 2021        Yemen  \n",
       "5652  11 Feb 2022        Yemen  \n",
       "5653         None         None  \n",
       "\n",
       "[5654 rows x 6 columns]"
      ]
     },
     "execution_count": 3,
     "metadata": {},
     "output_type": "execute_result"
    }
   ],
   "source": [
    "news_df"
   ]
  },
  {
   "cell_type": "markdown",
   "id": "f545cf96-51aa-454e-8428-f2f4d2ed31ba",
   "metadata": {},
   "source": [
    "# Exploratory Data Analysis"
   ]
  },
  {
   "cell_type": "markdown",
   "id": "63e1ed75-9ac7-45fa-bd33-97a12c327b60",
   "metadata": {},
   "source": [
    "### Removing the unnamed columns"
   ]
  },
  {
   "cell_type": "code",
   "execution_count": 4,
   "id": "389fd5e6-340c-4313-852e-bda080eb0b30",
   "metadata": {},
   "outputs": [],
   "source": [
    "news_df = news_df.loc[:, ~news_df.columns.str.contains('^Unnamed')]"
   ]
  },
  {
   "cell_type": "code",
   "execution_count": 5,
   "id": "28f739ce-8182-4c58-b60a-cfdf3b248814",
   "metadata": {},
   "outputs": [
    {
     "data": {
      "text/html": [
       "<div>\n",
       "<style scoped>\n",
       "    .dataframe tbody tr th:only-of-type {\n",
       "        vertical-align: middle;\n",
       "    }\n",
       "\n",
       "    .dataframe tbody tr th {\n",
       "        vertical-align: top;\n",
       "    }\n",
       "\n",
       "    .dataframe thead th {\n",
       "        text-align: right;\n",
       "    }\n",
       "</style>\n",
       "<table border=\"1\" class=\"dataframe\">\n",
       "  <thead>\n",
       "    <tr style=\"text-align: right;\">\n",
       "      <th></th>\n",
       "      <th>Headlines</th>\n",
       "      <th>Summary</th>\n",
       "      <th>Press</th>\n",
       "      <th>Date</th>\n",
       "      <th>Keyword</th>\n",
       "    </tr>\n",
       "  </thead>\n",
       "  <tbody>\n",
       "    <tr>\n",
       "      <th>0</th>\n",
       "      <td>I served in Iraq and Afghanistan but the horro...</td>\n",
       "      <td>A WAR hero traumatised by the horrors of comba...</td>\n",
       "      <td>The Sun</td>\n",
       "      <td>1 day ago</td>\n",
       "      <td>Afghanistan</td>\n",
       "    </tr>\n",
       "    <tr>\n",
       "      <th>1</th>\n",
       "      <td>The forever war in Afghanistan is nowhere near...</td>\n",
       "      <td>Islamic State is seeking to overthrow the Tali...</td>\n",
       "      <td>ThePrint</td>\n",
       "      <td>2 weeks ago</td>\n",
       "      <td>Afghanistan</td>\n",
       "    </tr>\n",
       "    <tr>\n",
       "      <th>2</th>\n",
       "      <td>Hell at Abbey Gate: Chaos, Confusion and Death...</td>\n",
       "      <td>In firsthand accounts, Afghan civilians and U....</td>\n",
       "      <td>ProPublica</td>\n",
       "      <td>1 month ago</td>\n",
       "      <td>Afghanistan</td>\n",
       "    </tr>\n",
       "    <tr>\n",
       "      <th>3</th>\n",
       "      <td>‘A second Afghanistan’: Doubts over Russia’s w...</td>\n",
       "      <td>Russia's lack of progress in its war against U...</td>\n",
       "      <td>Al Jazeera</td>\n",
       "      <td>5 days ago</td>\n",
       "      <td>Afghanistan</td>\n",
       "    </tr>\n",
       "    <tr>\n",
       "      <th>4</th>\n",
       "      <td>Afghanistan: Former army general vows new war ...</td>\n",
       "      <td>Lt Gen Sami Sadat tells the BBC of planned ope...</td>\n",
       "      <td>BBC</td>\n",
       "      <td>1 week ago</td>\n",
       "      <td>Afghanistan</td>\n",
       "    </tr>\n",
       "  </tbody>\n",
       "</table>\n",
       "</div>"
      ],
      "text/plain": [
       "                                           Headlines  \\\n",
       "0  I served in Iraq and Afghanistan but the horro...   \n",
       "1  The forever war in Afghanistan is nowhere near...   \n",
       "2  Hell at Abbey Gate: Chaos, Confusion and Death...   \n",
       "3  ‘A second Afghanistan’: Doubts over Russia’s w...   \n",
       "4  Afghanistan: Former army general vows new war ...   \n",
       "\n",
       "                                             Summary       Press         Date  \\\n",
       "0  A WAR hero traumatised by the horrors of comba...     The Sun    1 day ago   \n",
       "1  Islamic State is seeking to overthrow the Tali...    ThePrint  2 weeks ago   \n",
       "2  In firsthand accounts, Afghan civilians and U....  ProPublica  1 month ago   \n",
       "3  Russia's lack of progress in its war against U...  Al Jazeera   5 days ago   \n",
       "4  Lt Gen Sami Sadat tells the BBC of planned ope...         BBC   1 week ago   \n",
       "\n",
       "       Keyword  \n",
       "0  Afghanistan  \n",
       "1  Afghanistan  \n",
       "2  Afghanistan  \n",
       "3  Afghanistan  \n",
       "4  Afghanistan  "
      ]
     },
     "execution_count": 5,
     "metadata": {},
     "output_type": "execute_result"
    }
   ],
   "source": [
    "news_df.head()"
   ]
  },
  {
   "cell_type": "code",
   "execution_count": 6,
   "id": "bb4970b3-faed-481f-ae77-c28e685a5aa5",
   "metadata": {},
   "outputs": [
    {
     "data": {
      "text/html": [
       "<div>\n",
       "<style scoped>\n",
       "    .dataframe tbody tr th:only-of-type {\n",
       "        vertical-align: middle;\n",
       "    }\n",
       "\n",
       "    .dataframe tbody tr th {\n",
       "        vertical-align: top;\n",
       "    }\n",
       "\n",
       "    .dataframe thead th {\n",
       "        text-align: right;\n",
       "    }\n",
       "</style>\n",
       "<table border=\"1\" class=\"dataframe\">\n",
       "  <thead>\n",
       "    <tr style=\"text-align: right;\">\n",
       "      <th></th>\n",
       "      <th>Headlines</th>\n",
       "      <th>Summary</th>\n",
       "      <th>Press</th>\n",
       "      <th>Date</th>\n",
       "      <th>Keyword</th>\n",
       "    </tr>\n",
       "  </thead>\n",
       "  <tbody>\n",
       "    <tr>\n",
       "      <th>3638</th>\n",
       "      <td>1971 war: The story of India's victory, Pakist...</td>\n",
       "      <td>The Indo-Pakistani war of 1971 which began on ...</td>\n",
       "      <td>Republic World</td>\n",
       "      <td>3 Dec 2020</td>\n",
       "      <td>Pakistan</td>\n",
       "    </tr>\n",
       "  </tbody>\n",
       "</table>\n",
       "</div>"
      ],
      "text/plain": [
       "                                              Headlines  \\\n",
       "3638  1971 war: The story of India's victory, Pakist...   \n",
       "\n",
       "                                                Summary           Press  \\\n",
       "3638  The Indo-Pakistani war of 1971 which began on ...  Republic World   \n",
       "\n",
       "            Date   Keyword  \n",
       "3638  3 Dec 2020  Pakistan  "
      ]
     },
     "execution_count": 6,
     "metadata": {},
     "output_type": "execute_result"
    }
   ],
   "source": [
    "news_df.sample()"
   ]
  },
  {
   "cell_type": "code",
   "execution_count": 7,
   "id": "89499c50-7acf-4656-9e4d-1f67a580f41a",
   "metadata": {},
   "outputs": [
    {
     "data": {
      "text/plain": [
       "Headlines    object\n",
       "Summary      object\n",
       "Press        object\n",
       "Date         object\n",
       "Keyword      object\n",
       "dtype: object"
      ]
     },
     "execution_count": 7,
     "metadata": {},
     "output_type": "execute_result"
    }
   ],
   "source": [
    "news_df.dtypes"
   ]
  },
  {
   "cell_type": "code",
   "execution_count": 8,
   "id": "7d1ddc24-44b1-4d16-9e7a-95b4758da6ac",
   "metadata": {},
   "outputs": [
    {
     "data": {
      "text/plain": [
       "count    5654.000000\n",
       "mean       60.677927\n",
       "std        16.481030\n",
       "min         0.000000\n",
       "25%        53.000000\n",
       "50%        60.000000\n",
       "75%        66.000000\n",
       "max       150.000000\n",
       "Name: Headlines, dtype: float64"
      ]
     },
     "execution_count": 8,
     "metadata": {},
     "output_type": "execute_result"
    }
   ],
   "source": [
    "news_df.Headlines.apply(lambda x: len(x) if x is not None else 0).describe()"
   ]
  },
  {
   "cell_type": "code",
   "execution_count": 9,
   "id": "da0310cc-ee8c-40d6-b1bf-543c0f7a9d80",
   "metadata": {},
   "outputs": [
    {
     "name": "stdout",
     "output_type": "stream",
     "text": [
      "      Headlines  Summary  Press   Date  Keyword\n",
      "0         False    False  False  False    False\n",
      "1         False    False  False  False    False\n",
      "2         False    False  False  False    False\n",
      "3         False    False  False  False    False\n",
      "4         False    False  False  False    False\n",
      "...         ...      ...    ...    ...      ...\n",
      "5649      False    False  False  False    False\n",
      "5650      False    False  False  False    False\n",
      "5651      False    False  False  False    False\n",
      "5652      False    False  False  False    False\n",
      "5653       True     True   True   True     True\n",
      "\n",
      "[5654 rows x 5 columns]\n"
     ]
    }
   ],
   "source": [
    "print(news_df.isnull())"
   ]
  },
  {
   "cell_type": "code",
   "execution_count": 10,
   "id": "f050d9f3-baf5-4dd1-ab73-fadf44095273",
   "metadata": {},
   "outputs": [
    {
     "data": {
      "text/html": [
       "<div>\n",
       "<style scoped>\n",
       "    .dataframe tbody tr th:only-of-type {\n",
       "        vertical-align: middle;\n",
       "    }\n",
       "\n",
       "    .dataframe tbody tr th {\n",
       "        vertical-align: top;\n",
       "    }\n",
       "\n",
       "    .dataframe thead th {\n",
       "        text-align: right;\n",
       "    }\n",
       "</style>\n",
       "<table border=\"1\" class=\"dataframe\">\n",
       "  <thead>\n",
       "    <tr style=\"text-align: right;\">\n",
       "      <th></th>\n",
       "      <th>Headlines</th>\n",
       "      <th>Summary</th>\n",
       "      <th>Press</th>\n",
       "      <th>Date</th>\n",
       "      <th>Keyword</th>\n",
       "    </tr>\n",
       "  </thead>\n",
       "  <tbody>\n",
       "    <tr>\n",
       "      <th>0</th>\n",
       "      <td>I served in Iraq and Afghanistan but the horro...</td>\n",
       "      <td>A WAR hero traumatised by the horrors of comba...</td>\n",
       "      <td>The Sun</td>\n",
       "      <td>1 day ago</td>\n",
       "      <td>Afghanistan</td>\n",
       "    </tr>\n",
       "    <tr>\n",
       "      <th>1</th>\n",
       "      <td>The forever war in Afghanistan is nowhere near...</td>\n",
       "      <td>Islamic State is seeking to overthrow the Tali...</td>\n",
       "      <td>ThePrint</td>\n",
       "      <td>2 weeks ago</td>\n",
       "      <td>Afghanistan</td>\n",
       "    </tr>\n",
       "    <tr>\n",
       "      <th>2</th>\n",
       "      <td>Hell at Abbey Gate: Chaos, Confusion and Death...</td>\n",
       "      <td>In firsthand accounts, Afghan civilians and U....</td>\n",
       "      <td>ProPublica</td>\n",
       "      <td>1 month ago</td>\n",
       "      <td>Afghanistan</td>\n",
       "    </tr>\n",
       "    <tr>\n",
       "      <th>3</th>\n",
       "      <td>‘A second Afghanistan’: Doubts over Russia’s w...</td>\n",
       "      <td>Russia's lack of progress in its war against U...</td>\n",
       "      <td>Al Jazeera</td>\n",
       "      <td>5 days ago</td>\n",
       "      <td>Afghanistan</td>\n",
       "    </tr>\n",
       "    <tr>\n",
       "      <th>4</th>\n",
       "      <td>Afghanistan: Former army general vows new war ...</td>\n",
       "      <td>Lt Gen Sami Sadat tells the BBC of planned ope...</td>\n",
       "      <td>BBC</td>\n",
       "      <td>1 week ago</td>\n",
       "      <td>Afghanistan</td>\n",
       "    </tr>\n",
       "    <tr>\n",
       "      <th>...</th>\n",
       "      <td>...</td>\n",
       "      <td>...</td>\n",
       "      <td>...</td>\n",
       "      <td>...</td>\n",
       "      <td>...</td>\n",
       "    </tr>\n",
       "    <tr>\n",
       "      <th>5649</th>\n",
       "      <td>We first cut rations in half. Now, we'll take ...</td>\n",
       "      <td>We first cut rations in half. Now, we'll take ...</td>\n",
       "      <td>USA Today</td>\n",
       "      <td>1 month ago</td>\n",
       "      <td>Yemen</td>\n",
       "    </tr>\n",
       "    <tr>\n",
       "      <th>5650</th>\n",
       "      <td>Yemen war: Two foreign Doctors Without Borders...</td>\n",
       "      <td>The conflict began in 2014 after Houthi rebels...</td>\n",
       "      <td>Middle East Eye</td>\n",
       "      <td>6 Mar 2022</td>\n",
       "      <td>Yemen</td>\n",
       "    </tr>\n",
       "    <tr>\n",
       "      <th>5651</th>\n",
       "      <td>Devastated by war, Yemen's still surviving oil...</td>\n",
       "      <td>Yemen's oil and gas industry could be at a cro...</td>\n",
       "      <td>S&amp;P Global</td>\n",
       "      <td>12 Aug 2021</td>\n",
       "      <td>Yemen</td>\n",
       "    </tr>\n",
       "    <tr>\n",
       "      <th>5652</th>\n",
       "      <td>Deconstructed: Gas Price Politics And Genocide...</td>\n",
       "      <td>Since we last covered the war in Yemen on this...</td>\n",
       "      <td>The Intercept</td>\n",
       "      <td>11 Feb 2022</td>\n",
       "      <td>Yemen</td>\n",
       "    </tr>\n",
       "    <tr>\n",
       "      <th>5653</th>\n",
       "      <td>None</td>\n",
       "      <td>None</td>\n",
       "      <td>None</td>\n",
       "      <td>None</td>\n",
       "      <td>None</td>\n",
       "    </tr>\n",
       "  </tbody>\n",
       "</table>\n",
       "<p>5654 rows × 5 columns</p>\n",
       "</div>"
      ],
      "text/plain": [
       "                                              Headlines  \\\n",
       "0     I served in Iraq and Afghanistan but the horro...   \n",
       "1     The forever war in Afghanistan is nowhere near...   \n",
       "2     Hell at Abbey Gate: Chaos, Confusion and Death...   \n",
       "3     ‘A second Afghanistan’: Doubts over Russia’s w...   \n",
       "4     Afghanistan: Former army general vows new war ...   \n",
       "...                                                 ...   \n",
       "5649  We first cut rations in half. Now, we'll take ...   \n",
       "5650  Yemen war: Two foreign Doctors Without Borders...   \n",
       "5651  Devastated by war, Yemen's still surviving oil...   \n",
       "5652  Deconstructed: Gas Price Politics And Genocide...   \n",
       "5653                                               None   \n",
       "\n",
       "                                                Summary            Press  \\\n",
       "0     A WAR hero traumatised by the horrors of comba...          The Sun   \n",
       "1     Islamic State is seeking to overthrow the Tali...         ThePrint   \n",
       "2     In firsthand accounts, Afghan civilians and U....       ProPublica   \n",
       "3     Russia's lack of progress in its war against U...       Al Jazeera   \n",
       "4     Lt Gen Sami Sadat tells the BBC of planned ope...              BBC   \n",
       "...                                                 ...              ...   \n",
       "5649  We first cut rations in half. Now, we'll take ...        USA Today   \n",
       "5650  The conflict began in 2014 after Houthi rebels...  Middle East Eye   \n",
       "5651  Yemen's oil and gas industry could be at a cro...       S&P Global   \n",
       "5652  Since we last covered the war in Yemen on this...    The Intercept   \n",
       "5653                                               None             None   \n",
       "\n",
       "             Date      Keyword  \n",
       "0       1 day ago  Afghanistan  \n",
       "1     2 weeks ago  Afghanistan  \n",
       "2     1 month ago  Afghanistan  \n",
       "3      5 days ago  Afghanistan  \n",
       "4      1 week ago  Afghanistan  \n",
       "...           ...          ...  \n",
       "5649  1 month ago        Yemen  \n",
       "5650   6 Mar 2022        Yemen  \n",
       "5651  12 Aug 2021        Yemen  \n",
       "5652  11 Feb 2022        Yemen  \n",
       "5653         None         None  \n",
       "\n",
       "[5654 rows x 5 columns]"
      ]
     },
     "execution_count": 10,
     "metadata": {},
     "output_type": "execute_result"
    }
   ],
   "source": [
    "news_df_filtered = news_df[(news_df['Headlines'] != '') & (news_df['Summary'] != '')]\n",
    "news_df_filtered"
   ]
  },
  {
   "cell_type": "code",
   "execution_count": 11,
   "id": "8ae31ae2-53e6-4d9c-8219-bb67cc7429fd",
   "metadata": {},
   "outputs": [],
   "source": [
    "news_df_filtered.dropna(inplace = True)"
   ]
  },
  {
   "cell_type": "code",
   "execution_count": 12,
   "id": "d7a67278-c5d1-425c-8e76-eadd23c440dc",
   "metadata": {},
   "outputs": [
    {
     "data": {
      "text/html": [
       "<div>\n",
       "<style scoped>\n",
       "    .dataframe tbody tr th:only-of-type {\n",
       "        vertical-align: middle;\n",
       "    }\n",
       "\n",
       "    .dataframe tbody tr th {\n",
       "        vertical-align: top;\n",
       "    }\n",
       "\n",
       "    .dataframe thead th {\n",
       "        text-align: right;\n",
       "    }\n",
       "</style>\n",
       "<table border=\"1\" class=\"dataframe\">\n",
       "  <thead>\n",
       "    <tr style=\"text-align: right;\">\n",
       "      <th></th>\n",
       "      <th>Headlines</th>\n",
       "      <th>Summary</th>\n",
       "      <th>Press</th>\n",
       "      <th>Date</th>\n",
       "      <th>Keyword</th>\n",
       "    </tr>\n",
       "  </thead>\n",
       "  <tbody>\n",
       "    <tr>\n",
       "      <th>0</th>\n",
       "      <td>I served in Iraq and Afghanistan but the horro...</td>\n",
       "      <td>A WAR hero traumatised by the horrors of comba...</td>\n",
       "      <td>The Sun</td>\n",
       "      <td>1 day ago</td>\n",
       "      <td>Afghanistan</td>\n",
       "    </tr>\n",
       "    <tr>\n",
       "      <th>1</th>\n",
       "      <td>The forever war in Afghanistan is nowhere near...</td>\n",
       "      <td>Islamic State is seeking to overthrow the Tali...</td>\n",
       "      <td>ThePrint</td>\n",
       "      <td>2 weeks ago</td>\n",
       "      <td>Afghanistan</td>\n",
       "    </tr>\n",
       "    <tr>\n",
       "      <th>2</th>\n",
       "      <td>Hell at Abbey Gate: Chaos, Confusion and Death...</td>\n",
       "      <td>In firsthand accounts, Afghan civilians and U....</td>\n",
       "      <td>ProPublica</td>\n",
       "      <td>1 month ago</td>\n",
       "      <td>Afghanistan</td>\n",
       "    </tr>\n",
       "    <tr>\n",
       "      <th>3</th>\n",
       "      <td>‘A second Afghanistan’: Doubts over Russia’s w...</td>\n",
       "      <td>Russia's lack of progress in its war against U...</td>\n",
       "      <td>Al Jazeera</td>\n",
       "      <td>5 days ago</td>\n",
       "      <td>Afghanistan</td>\n",
       "    </tr>\n",
       "    <tr>\n",
       "      <th>4</th>\n",
       "      <td>Afghanistan: Former army general vows new war ...</td>\n",
       "      <td>Lt Gen Sami Sadat tells the BBC of planned ope...</td>\n",
       "      <td>BBC</td>\n",
       "      <td>1 week ago</td>\n",
       "      <td>Afghanistan</td>\n",
       "    </tr>\n",
       "    <tr>\n",
       "      <th>...</th>\n",
       "      <td>...</td>\n",
       "      <td>...</td>\n",
       "      <td>...</td>\n",
       "      <td>...</td>\n",
       "      <td>...</td>\n",
       "    </tr>\n",
       "    <tr>\n",
       "      <th>5648</th>\n",
       "      <td>The Shattering of Yemen</td>\n",
       "      <td>U.S. President Joe Biden has made ending Yemen...</td>\n",
       "      <td>Foreign Affairs</td>\n",
       "      <td>19 Aug 2021</td>\n",
       "      <td>Yemen</td>\n",
       "    </tr>\n",
       "    <tr>\n",
       "      <th>5649</th>\n",
       "      <td>We first cut rations in half. Now, we'll take ...</td>\n",
       "      <td>We first cut rations in half. Now, we'll take ...</td>\n",
       "      <td>USA Today</td>\n",
       "      <td>1 month ago</td>\n",
       "      <td>Yemen</td>\n",
       "    </tr>\n",
       "    <tr>\n",
       "      <th>5650</th>\n",
       "      <td>Yemen war: Two foreign Doctors Without Borders...</td>\n",
       "      <td>The conflict began in 2014 after Houthi rebels...</td>\n",
       "      <td>Middle East Eye</td>\n",
       "      <td>6 Mar 2022</td>\n",
       "      <td>Yemen</td>\n",
       "    </tr>\n",
       "    <tr>\n",
       "      <th>5651</th>\n",
       "      <td>Devastated by war, Yemen's still surviving oil...</td>\n",
       "      <td>Yemen's oil and gas industry could be at a cro...</td>\n",
       "      <td>S&amp;P Global</td>\n",
       "      <td>12 Aug 2021</td>\n",
       "      <td>Yemen</td>\n",
       "    </tr>\n",
       "    <tr>\n",
       "      <th>5652</th>\n",
       "      <td>Deconstructed: Gas Price Politics And Genocide...</td>\n",
       "      <td>Since we last covered the war in Yemen on this...</td>\n",
       "      <td>The Intercept</td>\n",
       "      <td>11 Feb 2022</td>\n",
       "      <td>Yemen</td>\n",
       "    </tr>\n",
       "  </tbody>\n",
       "</table>\n",
       "<p>5653 rows × 5 columns</p>\n",
       "</div>"
      ],
      "text/plain": [
       "                                              Headlines  \\\n",
       "0     I served in Iraq and Afghanistan but the horro...   \n",
       "1     The forever war in Afghanistan is nowhere near...   \n",
       "2     Hell at Abbey Gate: Chaos, Confusion and Death...   \n",
       "3     ‘A second Afghanistan’: Doubts over Russia’s w...   \n",
       "4     Afghanistan: Former army general vows new war ...   \n",
       "...                                                 ...   \n",
       "5648                            The Shattering of Yemen   \n",
       "5649  We first cut rations in half. Now, we'll take ...   \n",
       "5650  Yemen war: Two foreign Doctors Without Borders...   \n",
       "5651  Devastated by war, Yemen's still surviving oil...   \n",
       "5652  Deconstructed: Gas Price Politics And Genocide...   \n",
       "\n",
       "                                                Summary            Press  \\\n",
       "0     A WAR hero traumatised by the horrors of comba...          The Sun   \n",
       "1     Islamic State is seeking to overthrow the Tali...         ThePrint   \n",
       "2     In firsthand accounts, Afghan civilians and U....       ProPublica   \n",
       "3     Russia's lack of progress in its war against U...       Al Jazeera   \n",
       "4     Lt Gen Sami Sadat tells the BBC of planned ope...              BBC   \n",
       "...                                                 ...              ...   \n",
       "5648  U.S. President Joe Biden has made ending Yemen...  Foreign Affairs   \n",
       "5649  We first cut rations in half. Now, we'll take ...        USA Today   \n",
       "5650  The conflict began in 2014 after Houthi rebels...  Middle East Eye   \n",
       "5651  Yemen's oil and gas industry could be at a cro...       S&P Global   \n",
       "5652  Since we last covered the war in Yemen on this...    The Intercept   \n",
       "\n",
       "             Date      Keyword  \n",
       "0       1 day ago  Afghanistan  \n",
       "1     2 weeks ago  Afghanistan  \n",
       "2     1 month ago  Afghanistan  \n",
       "3      5 days ago  Afghanistan  \n",
       "4      1 week ago  Afghanistan  \n",
       "...           ...          ...  \n",
       "5648  19 Aug 2021        Yemen  \n",
       "5649  1 month ago        Yemen  \n",
       "5650   6 Mar 2022        Yemen  \n",
       "5651  12 Aug 2021        Yemen  \n",
       "5652  11 Feb 2022        Yemen  \n",
       "\n",
       "[5653 rows x 5 columns]"
      ]
     },
     "execution_count": 12,
     "metadata": {},
     "output_type": "execute_result"
    }
   ],
   "source": [
    "news_df_filtered"
   ]
  },
  {
   "cell_type": "code",
   "execution_count": 13,
   "id": "481c330a-a7f8-438d-a32a-afe1b9d1fe53",
   "metadata": {},
   "outputs": [
    {
     "data": {
      "text/plain": [
       "count    5653.000000\n",
       "mean       60.688661\n",
       "std        16.462712\n",
       "min         5.000000\n",
       "25%        53.000000\n",
       "50%        60.000000\n",
       "75%        66.000000\n",
       "max       150.000000\n",
       "Name: Headlines, dtype: float64"
      ]
     },
     "execution_count": 13,
     "metadata": {},
     "output_type": "execute_result"
    }
   ],
   "source": [
    "news_df_filtered.Headlines.apply(lambda x: len(x) if x is not None else 0).describe()"
   ]
  },
  {
   "cell_type": "code",
   "execution_count": 14,
   "id": "6b8b384c-ca2c-421f-a875-cc9c2aaf7727",
   "metadata": {},
   "outputs": [
    {
     "data": {
      "text/plain": [
       "count    5653.000000\n",
       "mean      141.338935\n",
       "std        11.719252\n",
       "min         7.000000\n",
       "25%       140.000000\n",
       "50%       143.000000\n",
       "75%       146.000000\n",
       "max       169.000000\n",
       "Name: Summary, dtype: float64"
      ]
     },
     "execution_count": 14,
     "metadata": {},
     "output_type": "execute_result"
    }
   ],
   "source": [
    "news_df_filtered.Summary.apply(lambda x: len(x) if x is not None else 0).describe()"
   ]
  },
  {
   "cell_type": "code",
   "execution_count": 15,
   "id": "f921502d-a71a-4437-b195-7ae69d5b72ad",
   "metadata": {},
   "outputs": [],
   "source": [
    "feature = news_df_filtered.Headlines + news_df_filtered.Summary"
   ]
  },
  {
   "cell_type": "code",
   "execution_count": 16,
   "id": "181198b2-885d-4fa2-95b6-effae7f61a89",
   "metadata": {},
   "outputs": [
    {
     "data": {
      "text/plain": [
       "0       I served in Iraq and Afghanistan but the horro...\n",
       "1       The forever war in Afghanistan is nowhere near...\n",
       "2       Hell at Abbey Gate: Chaos, Confusion and Death...\n",
       "3       ‘A second Afghanistan’: Doubts over Russia’s w...\n",
       "4       Afghanistan: Former army general vows new war ...\n",
       "                              ...                        \n",
       "5648    The Shattering of YemenU.S. President Joe Bide...\n",
       "5649    We first cut rations in half. Now, we'll take ...\n",
       "5650    Yemen war: Two foreign Doctors Without Borders...\n",
       "5651    Devastated by war, Yemen's still surviving oil...\n",
       "5652    Deconstructed: Gas Price Politics And Genocide...\n",
       "Length: 5653, dtype: object"
      ]
     },
     "execution_count": 16,
     "metadata": {},
     "output_type": "execute_result"
    }
   ],
   "source": [
    "feature"
   ]
  },
  {
   "cell_type": "code",
   "execution_count": 17,
   "id": "b0c22afb-5dd4-49b3-9b1c-2711ebddfc6c",
   "metadata": {},
   "outputs": [
    {
     "data": {
      "text/plain": [
       "0    I served in Iraq and Afghanistan but the horro...\n",
       "1    The forever war in Afghanistan is nowhere near...\n",
       "2    Hell at Abbey Gate: Chaos, Confusion and Death...\n",
       "3    ‘A second Afghanistan’: Doubts over Russia’s w...\n",
       "4    Afghanistan: Former army general vows new war ...\n",
       "dtype: object"
      ]
     },
     "execution_count": 17,
     "metadata": {},
     "output_type": "execute_result"
    }
   ],
   "source": [
    "feature.head()"
   ]
  },
  {
   "cell_type": "code",
   "execution_count": 37,
   "id": "06dc4532-6891-4e98-bcad-3884bf157684",
   "metadata": {},
   "outputs": [
    {
     "data": {
      "application/vnd.jupyter.widget-view+json": {
       "model_id": "c74f381377eb4438827a0463d511f8e0",
       "version_major": 2,
       "version_minor": 0
      },
      "text/plain": [
       "Batches:   0%|          | 0/57 [00:00<?, ?it/s]"
      ]
     },
     "metadata": {},
     "output_type": "display_data"
    }
   ],
   "source": [
    "from sentence_transformers import SentenceTransformer\n",
    "model = SentenceTransformer('paraphrase-multilingual-MiniLM-L12-v2') # use multilingual models for texts with non-english characters\n",
    "\n",
    "embeddings = model.encode(feature, show_progress_bar=True, batch_size=100)"
   ]
  },
  {
   "cell_type": "code",
   "execution_count": 38,
   "id": "6e14de97-4eaf-461c-9594-43810d9b6a45",
   "metadata": {},
   "outputs": [
    {
     "data": {
      "text/plain": [
       "array([[ 0.06312125,  0.22017187, -0.08592798, ..., -0.47542092,\n",
       "        -0.08063366, -0.3457432 ],\n",
       "       [-0.11413985,  0.22812465,  0.07895498, ..., -0.3298772 ,\n",
       "         0.18893449, -0.07485491],\n",
       "       [ 0.07695308, -0.04635571, -0.0530385 , ...,  0.03529377,\n",
       "        -0.16161329, -0.20239644],\n",
       "       ...,\n",
       "       [-0.3395436 ,  0.3634298 , -0.09503821, ...,  0.08140881,\n",
       "        -0.02458122, -0.11791272],\n",
       "       [-0.2056528 ,  0.01620732,  0.31460765, ..., -0.1073606 ,\n",
       "         0.19337615, -0.26196587],\n",
       "       [-0.27406698,  0.2125783 ,  0.06779835, ..., -0.00420741,\n",
       "        -0.25486252, -0.25594237]], dtype=float32)"
      ]
     },
     "execution_count": 38,
     "metadata": {},
     "output_type": "execute_result"
    }
   ],
   "source": [
    "embeddings"
   ]
  },
  {
   "cell_type": "code",
   "execution_count": 39,
   "id": "abfe8694-4349-4d9c-b38d-b15fc71b4c9a",
   "metadata": {},
   "outputs": [],
   "source": [
    "embeddings_list = embeddings.tolist()"
   ]
  },
  {
   "cell_type": "code",
   "execution_count": 19,
   "id": "d9f616fc",
   "metadata": {},
   "outputs": [
    {
     "name": "stdout",
     "output_type": "stream",
     "text": [
      "Collecting chromadb"
     ]
    },
    {
     "name": "stderr",
     "output_type": "stream",
     "text": [
      "WARNING: Ignoring invalid distribution -rotobuf (c:\\users\\anil\\anaconda3\\lib\\site-packages)\n",
      "WARNING: Ignoring invalid distribution -rotobuf (c:\\users\\anil\\anaconda3\\lib\\site-packages)\n",
      "WARNING: Ignoring invalid distribution -rotobuf (c:\\users\\anil\\anaconda3\\lib\\site-packages)\n",
      "    WARNING: Ignoring invalid distribution -rotobuf (c:\\users\\anil\\anaconda3\\lib\\site-packages)\n",
      "    WARNING: Ignoring invalid distribution -rotobuf (c:\\users\\anil\\anaconda3\\lib\\site-packages)\n",
      "    WARNING: Ignoring invalid distribution -rotobuf (c:\\users\\anil\\anaconda3\\lib\\site-packages)\n",
      "    WARNING: Ignoring invalid distribution -rotobuf (c:\\users\\anil\\anaconda3\\lib\\site-packages)\n",
      "WARNING: Ignoring invalid distribution -rotobuf (c:\\users\\anil\\anaconda3\\lib\\site-packages)\n",
      "WARNING: Ignoring invalid distribution -rotobuf (c:\\users\\anil\\anaconda3\\lib\\site-packages)\n",
      "WARNING: Ignoring invalid distribution -rotobuf (c:\\users\\anil\\anaconda3\\lib\\site-packages)\n",
      "WARNING: Ignoring invalid distribution -rotobuf (c:\\users\\anil\\anaconda3\\lib\\site-packages)\n",
      "WARNING: Ignoring invalid distribution -rotobuf (c:\\users\\anil\\anaconda3\\lib\\site-packages)\n",
      "WARNING: Ignoring invalid distribution -rotobuf (c:\\users\\anil\\anaconda3\\lib\\site-packages)\n",
      "WARNING: Ignoring invalid distribution -rotobuf (c:\\users\\anil\\anaconda3\\lib\\site-packages)\n",
      "WARNING: Ignoring invalid distribution -rotobuf (c:\\users\\anil\\anaconda3\\lib\\site-packages)\n",
      "WARNING: Ignoring invalid distribution -rotobuf (c:\\users\\anil\\anaconda3\\lib\\site-packages)\n",
      "WARNING: Ignoring invalid distribution -rotobuf (c:\\users\\anil\\anaconda3\\lib\\site-packages)\n",
      "WARNING: Ignoring invalid distribution -rotobuf (c:\\users\\anil\\anaconda3\\lib\\site-packages)\n",
      "WARNING: Ignoring invalid distribution -rotobuf (c:\\users\\anil\\anaconda3\\lib\\site-packages)\n",
      "WARNING: Ignoring invalid distribution -rotobuf (c:\\users\\anil\\anaconda3\\lib\\site-packages)\n",
      "WARNING: Ignoring invalid distribution -rotobuf (c:\\users\\anil\\anaconda3\\lib\\site-packages)\n",
      "WARNING: Ignoring invalid distribution -rotobuf (c:\\users\\anil\\anaconda3\\lib\\site-packages)\n",
      "WARNING: Ignoring invalid distribution -rotobuf (c:\\users\\anil\\anaconda3\\lib\\site-packages)\n",
      "WARNING: Ignoring invalid distribution -rotobuf (c:\\users\\anil\\anaconda3\\lib\\site-packages)\n",
      "WARNING: Ignoring invalid distribution -rotobuf (c:\\users\\anil\\anaconda3\\lib\\site-packages)\n",
      "WARNING: Ignoring invalid distribution -rotobuf (c:\\users\\anil\\anaconda3\\lib\\site-packages)\n",
      "WARNING: Ignoring invalid distribution -rotobuf (c:\\users\\anil\\anaconda3\\lib\\site-packages)\n",
      "WARNING: Ignoring invalid distribution -rotobuf (c:\\users\\anil\\anaconda3\\lib\\site-packages)\n",
      "WARNING: Ignoring invalid distribution -rotobuf (c:\\users\\anil\\anaconda3\\lib\\site-packages)\n",
      "WARNING: Ignoring invalid distribution -rotobuf (c:\\users\\anil\\anaconda3\\lib\\site-packages)\n",
      "WARNING: Ignoring invalid distribution -rotobuf (c:\\users\\anil\\anaconda3\\lib\\site-packages)\n",
      "WARNING: Ignoring invalid distribution -rotobuf (c:\\users\\anil\\anaconda3\\lib\\site-packages)\n",
      "WARNING: Ignoring invalid distribution -rotobuf (c:\\users\\anil\\anaconda3\\lib\\site-packages)\n",
      "WARNING: Ignoring invalid distribution -rotobuf (c:\\users\\anil\\anaconda3\\lib\\site-packages)\n",
      "WARNING: Ignoring invalid distribution -rotobuf (c:\\users\\anil\\anaconda3\\lib\\site-packages)\n",
      "WARNING: Ignoring invalid distribution -rotobuf (c:\\users\\anil\\anaconda3\\lib\\site-packages)\n",
      "WARNING: Ignoring invalid distribution -rotobuf (c:\\users\\anil\\anaconda3\\lib\\site-packages)\n",
      "WARNING: Ignoring invalid distribution -rotobuf (c:\\users\\anil\\anaconda3\\lib\\site-packages)\n",
      "WARNING: Ignoring invalid distribution -rotobuf (c:\\users\\anil\\anaconda3\\lib\\site-packages)\n",
      "WARNING: Ignoring invalid distribution -rotobuf (c:\\users\\anil\\anaconda3\\lib\\site-packages)\n",
      "WARNING: Ignoring invalid distribution -rotobuf (c:\\users\\anil\\anaconda3\\lib\\site-packages)\n",
      "ERROR: pip's dependency resolver does not currently take into account all the packages that are installed. This behaviour is the source of the following dependency conflicts.\n",
      "tensorflow-intel 2.11.0 requires protobuf<3.20,>=3.9.2, but you have protobuf 4.23.3 which is incompatible.\n",
      "tensorflow-intel 2.11.0 requires tensorflow-estimator<2.12,>=2.11.0, but you have tensorflow-estimator 2.12.0 which is incompatible.\n",
      "tensorboard 2.11.0 requires protobuf<4,>=3.9.2, but you have protobuf 4.23.3 which is incompatible.\n",
      "tensorboard 2.11.0 requires tensorboard-data-server<0.7.0,>=0.6.0, but you have tensorboard-data-server 0.7.1 which is incompatible.\n",
      "mlflow 2.2.1 requires Jinja2<4,>=3.0; platform_system == \"Windows\", but you have jinja2 2.11.3 which is incompatible.\n",
      "WARNING: Ignoring invalid distribution -rotobuf (c:\\users\\anil\\anaconda3\\lib\\site-packages)\n",
      "WARNING: Ignoring invalid distribution -rotobuf (c:\\users\\anil\\anaconda3\\lib\\site-packages)\n",
      "WARNING: Ignoring invalid distribution -rotobuf (c:\\users\\anil\\anaconda3\\lib\\site-packages)\n"
     ]
    },
    {
     "name": "stdout",
     "output_type": "stream",
     "text": [
      "\n",
      "  Using cached chromadb-0.4.20-py3-none-any.whl (507 kB)\n",
      "Requirement already satisfied: pypika>=0.48.9 in c:\\users\\anil\\anaconda3\\lib\\site-packages (from chromadb) (0.48.9)\n",
      "Collecting opentelemetry-instrumentation-fastapi>=0.41b0\n",
      "  Using cached opentelemetry_instrumentation_fastapi-0.42b0-py3-none-any.whl (11 kB)\n",
      "Collecting kubernetes>=28.1.0\n",
      "  Using cached kubernetes-28.1.0-py2.py3-none-any.whl (1.6 MB)\n",
      "Collecting opentelemetry-sdk>=1.2.0\n",
      "  Using cached opentelemetry_sdk-1.21.0-py3-none-any.whl (105 kB)\n",
      "Collecting uvicorn[standard]>=0.18.3\n",
      "  Using cached uvicorn-0.24.0.post1-py3-none-any.whl (59 kB)\n",
      "Requirement already satisfied: overrides>=7.3.1 in c:\\users\\anil\\anaconda3\\lib\\site-packages (from chromadb) (7.4.0)\n",
      "Requirement already satisfied: tokenizers>=0.13.2 in c:\\users\\anil\\anaconda3\\lib\\site-packages (from chromadb) (0.15.0)\n",
      "Requirement already satisfied: tqdm>=4.65.0 in c:\\users\\anil\\anaconda3\\lib\\site-packages (from chromadb) (4.66.1)\n",
      "Collecting bcrypt>=4.0.1\n",
      "  Using cached bcrypt-4.1.1-cp37-abi3-win_amd64.whl (158 kB)\n",
      "Collecting grpcio>=1.58.0\n",
      "  Using cached grpcio-1.60.0-cp39-cp39-win_amd64.whl (3.7 MB)\n",
      "Collecting opentelemetry-exporter-otlp-proto-grpc>=1.2.0\n",
      "  Using cached opentelemetry_exporter_otlp_proto_grpc-1.21.0-py3-none-any.whl (18 kB)\n",
      "Collecting fastapi>=0.95.2\n",
      "  Using cached fastapi-0.105.0-py3-none-any.whl (93 kB)\n",
      "Collecting chroma-hnswlib==0.7.3\n",
      "  Using cached chroma_hnswlib-0.7.3-cp39-cp39-win_amd64.whl (150 kB)\n",
      "Collecting onnxruntime>=1.14.1\n",
      "  Using cached onnxruntime-1.16.3-cp39-cp39-win_amd64.whl (7.3 MB)\n",
      "Requirement already satisfied: tenacity>=8.2.3 in c:\\users\\anil\\anaconda3\\lib\\site-packages (from chromadb) (8.2.3)\n",
      "Collecting opentelemetry-api>=1.2.0\n",
      "  Using cached opentelemetry_api-1.21.0-py3-none-any.whl (57 kB)\n",
      "Requirement already satisfied: mmh3>=4.0.1 in c:\\users\\anil\\anaconda3\\lib\\site-packages (from chromadb) (4.0.1)\n",
      "Collecting posthog>=2.4.0\n",
      "  Using cached posthog-3.1.0-py2.py3-none-any.whl (37 kB)\n",
      "Collecting importlib-resources\n",
      "  Using cached importlib_resources-6.1.1-py3-none-any.whl (33 kB)\n",
      "Requirement already satisfied: PyYAML>=6.0.0 in c:\\users\\anil\\anaconda3\\lib\\site-packages (from chromadb) (6.0)\n",
      "Requirement already satisfied: numpy>=1.22.5 in c:\\users\\anil\\anaconda3\\lib\\site-packages (from chromadb) (1.26.2)\n",
      "Requirement already satisfied: typing-extensions>=4.5.0 in c:\\users\\anil\\anaconda3\\lib\\site-packages (from chromadb) (4.9.0)\n",
      "Requirement already satisfied: pulsar-client>=3.1.0 in c:\\users\\anil\\anaconda3\\lib\\site-packages (from chromadb) (3.3.0)\n",
      "Collecting typer>=0.9.0\n",
      "  Using cached typer-0.9.0-py3-none-any.whl (45 kB)\n",
      "Requirement already satisfied: requests>=2.28 in c:\\users\\anil\\anaconda3\\lib\\site-packages (from chromadb) (2.28.1)\n",
      "Collecting pydantic>=1.9\n",
      "  Using cached pydantic-2.5.2-py3-none-any.whl (381 kB)\n",
      "Collecting starlette<0.28.0,>=0.27.0\n",
      "  Using cached starlette-0.27.0-py3-none-any.whl (66 kB)\n",
      "Collecting anyio<4.0.0,>=3.7.1\n",
      "  Using cached anyio-3.7.1-py3-none-any.whl (80 kB)\n",
      "Requirement already satisfied: certifi>=14.05.14 in c:\\users\\anil\\anaconda3\\lib\\site-packages (from kubernetes>=28.1.0->chromadb) (2022.9.14)\n",
      "Requirement already satisfied: python-dateutil>=2.5.3 in c:\\users\\anil\\anaconda3\\lib\\site-packages (from kubernetes>=28.1.0->chromadb) (2.8.2)\n",
      "Requirement already satisfied: websocket-client!=0.40.0,!=0.41.*,!=0.42.*,>=0.32.0 in c:\\users\\anil\\anaconda3\\lib\\site-packages (from kubernetes>=28.1.0->chromadb) (0.58.0)\n",
      "Requirement already satisfied: oauthlib>=3.2.2 in c:\\users\\anil\\anaconda3\\lib\\site-packages (from kubernetes>=28.1.0->chromadb) (3.2.2)\n",
      "Requirement already satisfied: urllib3<2.0,>=1.24.2 in c:\\users\\anil\\anaconda3\\lib\\site-packages (from kubernetes>=28.1.0->chromadb) (1.26.11)\n",
      "Requirement already satisfied: six>=1.9.0 in c:\\users\\anil\\anaconda3\\lib\\site-packages (from kubernetes>=28.1.0->chromadb) (1.16.0)\n",
      "Requirement already satisfied: google-auth>=1.0.1 in c:\\users\\anil\\anaconda3\\lib\\site-packages (from kubernetes>=28.1.0->chromadb) (2.15.0)\n",
      "Requirement already satisfied: requests-oauthlib in c:\\users\\anil\\anaconda3\\lib\\site-packages (from kubernetes>=28.1.0->chromadb) (1.3.1)\n",
      "Collecting coloredlogs\n",
      "  Using cached coloredlogs-15.0.1-py2.py3-none-any.whl (46 kB)\n",
      "Requirement already satisfied: protobuf in c:\\users\\anil\\anaconda3\\lib\\site-packages (from onnxruntime>=1.14.1->chromadb) (4.23.3)\n",
      "Requirement already satisfied: flatbuffers in c:\\users\\anil\\anaconda3\\lib\\site-packages (from onnxruntime>=1.14.1->chromadb) (23.1.4)\n",
      "Requirement already satisfied: packaging in c:\\users\\anil\\anaconda3\\lib\\site-packages (from onnxruntime>=1.14.1->chromadb) (21.3)\n",
      "Requirement already satisfied: sympy in c:\\users\\anil\\anaconda3\\lib\\site-packages (from onnxruntime>=1.14.1->chromadb) (1.10.1)\n",
      "Collecting importlib-metadata<7.0,>=6.0\n",
      "  Using cached importlib_metadata-6.11.0-py3-none-any.whl (23 kB)\n",
      "Collecting deprecated>=1.2.6\n",
      "  Using cached Deprecated-1.2.14-py2.py3-none-any.whl (9.6 kB)\n",
      "Collecting googleapis-common-protos~=1.52\n",
      "  Using cached googleapis_common_protos-1.62.0-py2.py3-none-any.whl (228 kB)\n",
      "Requirement already satisfied: opentelemetry-proto==1.21.0 in c:\\users\\anil\\anaconda3\\lib\\site-packages (from opentelemetry-exporter-otlp-proto-grpc>=1.2.0->chromadb) (1.21.0)\n",
      "Collecting opentelemetry-exporter-otlp-proto-common==1.21.0\n",
      "  Using cached opentelemetry_exporter_otlp_proto_common-1.21.0-py3-none-any.whl (17 kB)\n",
      "Collecting backoff<3.0.0,>=1.10.0\n",
      "  Using cached backoff-2.2.1-py3-none-any.whl (15 kB)\n",
      "Requirement already satisfied: opentelemetry-util-http==0.42b0 in c:\\users\\anil\\anaconda3\\lib\\site-packages (from opentelemetry-instrumentation-fastapi>=0.41b0->chromadb) (0.42b0)\n",
      "Collecting opentelemetry-instrumentation-asgi==0.42b0\n",
      "  Using cached opentelemetry_instrumentation_asgi-0.42b0-py3-none-any.whl (13 kB)\n",
      "Collecting opentelemetry-instrumentation==0.42b0\n",
      "  Using cached opentelemetry_instrumentation-0.42b0-py3-none-any.whl (25 kB)\n",
      "Requirement already satisfied: opentelemetry-semantic-conventions==0.42b0 in c:\\users\\anil\\anaconda3\\lib\\site-packages (from opentelemetry-instrumentation-fastapi>=0.41b0->chromadb) (0.42b0)\n",
      "Requirement already satisfied: wrapt<2.0.0,>=1.0.0 in c:\\users\\anil\\anaconda3\\lib\\site-packages (from opentelemetry-instrumentation==0.42b0->opentelemetry-instrumentation-fastapi>=0.41b0->chromadb) (1.14.1)\n",
      "Requirement already satisfied: setuptools>=16.0 in c:\\users\\anil\\anaconda3\\lib\\site-packages (from opentelemetry-instrumentation==0.42b0->opentelemetry-instrumentation-fastapi>=0.41b0->chromadb) (63.4.1)\n",
      "Collecting asgiref~=3.0\n",
      "  Using cached asgiref-3.7.2-py3-none-any.whl (24 kB)\n",
      "Requirement already satisfied: monotonic>=1.5 in c:\\users\\anil\\anaconda3\\lib\\site-packages (from posthog>=2.4.0->chromadb) (1.6)\n",
      "Collecting annotated-types>=0.4.0\n",
      "  Using cached annotated_types-0.6.0-py3-none-any.whl (12 kB)\n",
      "Collecting pydantic-core==2.14.5\n",
      "  Using cached pydantic_core-2.14.5-cp39-none-win_amd64.whl (1.9 MB)\n",
      "Requirement already satisfied: charset-normalizer<3,>=2 in c:\\users\\anil\\anaconda3\\lib\\site-packages (from requests>=2.28->chromadb) (2.0.4)\n",
      "Requirement already satisfied: idna<4,>=2.5 in c:\\users\\anil\\anaconda3\\lib\\site-packages (from requests>=2.28->chromadb) (3.3)\n",
      "Requirement already satisfied: huggingface_hub<1.0,>=0.16.4 in c:\\users\\anil\\anaconda3\\lib\\site-packages (from tokenizers>=0.13.2->chromadb) (0.19.4)\n",
      "Requirement already satisfied: colorama in c:\\users\\anil\\anaconda3\\lib\\site-packages (from tqdm>=4.65.0->chromadb) (0.4.5)\n",
      "Requirement already satisfied: click<9.0.0,>=7.1.1 in c:\\users\\anil\\anaconda3\\lib\\site-packages (from typer>=0.9.0->chromadb) (8.0.4)\n",
      "Collecting h11>=0.8\n",
      "  Using cached h11-0.14.0-py3-none-any.whl (58 kB)\n",
      "Collecting httptools>=0.5.0\n",
      "  Using cached httptools-0.6.1-cp39-cp39-win_amd64.whl (60 kB)\n",
      "Collecting watchfiles>=0.13\n",
      "  Using cached watchfiles-0.21.0-cp39-none-win_amd64.whl (280 kB)\n",
      "Requirement already satisfied: websockets>=10.4 in c:\\users\\anil\\anaconda3\\lib\\site-packages (from uvicorn[standard]>=0.18.3->chromadb) (12.0)\n",
      "Requirement already satisfied: python-dotenv>=0.13 in c:\\users\\anil\\anaconda3\\lib\\site-packages (from uvicorn[standard]>=0.18.3->chromadb) (1.0.0)\n",
      "Requirement already satisfied: zipp>=3.1.0 in c:\\users\\anil\\anaconda3\\lib\\site-packages (from importlib-resources->chromadb) (3.8.0)\n",
      "Requirement already satisfied: sniffio>=1.1 in c:\\users\\anil\\anaconda3\\lib\\site-packages (from anyio<4.0.0,>=3.7.1->fastapi>=0.95.2->chromadb) (1.2.0)\n",
      "Collecting exceptiongroup\n",
      "  Using cached exceptiongroup-1.2.0-py3-none-any.whl (16 kB)\n",
      "Requirement already satisfied: rsa<5,>=3.1.4 in c:\\users\\anil\\anaconda3\\lib\\site-packages (from google-auth>=1.0.1->kubernetes>=28.1.0->chromadb) (4.9)\n",
      "Requirement already satisfied: pyasn1-modules>=0.2.1 in c:\\users\\anil\\anaconda3\\lib\\site-packages (from google-auth>=1.0.1->kubernetes>=28.1.0->chromadb) (0.2.8)\n",
      "Requirement already satisfied: cachetools<6.0,>=2.0.0 in c:\\users\\anil\\anaconda3\\lib\\site-packages (from google-auth>=1.0.1->kubernetes>=28.1.0->chromadb) (5.2.0)\n",
      "Requirement already satisfied: fsspec>=2023.5.0 in c:\\users\\anil\\anaconda3\\lib\\site-packages (from huggingface_hub<1.0,>=0.16.4->tokenizers>=0.13.2->chromadb) (2023.12.2)\n",
      "Requirement already satisfied: filelock in c:\\users\\anil\\anaconda3\\lib\\site-packages (from huggingface_hub<1.0,>=0.16.4->tokenizers>=0.13.2->chromadb) (3.6.0)\n",
      "Requirement already satisfied: pyparsing!=3.0.5,>=2.0.2 in c:\\users\\anil\\anaconda3\\lib\\site-packages (from packaging->onnxruntime>=1.14.1->chromadb) (3.0.9)\n",
      "Collecting humanfriendly>=9.1\n",
      "  Using cached humanfriendly-10.0-py2.py3-none-any.whl (86 kB)\n",
      "Requirement already satisfied: mpmath>=0.19 in c:\\users\\anil\\anaconda3\\lib\\site-packages (from sympy->onnxruntime>=1.14.1->chromadb) (1.2.1)\n",
      "Requirement already satisfied: pyreadline3 in c:\\users\\anil\\anaconda3\\lib\\site-packages (from humanfriendly>=9.1->coloredlogs->onnxruntime>=1.14.1->chromadb) (3.4.1)\n",
      "Requirement already satisfied: pyasn1<0.5.0,>=0.4.6 in c:\\users\\anil\\anaconda3\\lib\\site-packages (from pyasn1-modules>=0.2.1->google-auth>=1.0.1->kubernetes>=28.1.0->chromadb) (0.4.8)\n",
      "Installing collected packages: pydantic-core, importlib-resources, importlib-metadata, humanfriendly, httptools, h11, grpcio, googleapis-common-protos, exceptiongroup, deprecated, chroma-hnswlib, bcrypt, backoff, asgiref, annotated-types, uvicorn, typer, pydantic, posthog, opentelemetry-exporter-otlp-proto-common, opentelemetry-api, coloredlogs, anyio, watchfiles, starlette, opentelemetry-sdk, opentelemetry-instrumentation, onnxruntime, kubernetes, opentelemetry-instrumentation-asgi, opentelemetry-exporter-otlp-proto-grpc, fastapi, opentelemetry-instrumentation-fastapi, chromadb\n",
      "  Attempting uninstall: importlib-metadata\n",
      "    Found existing installation: importlib-metadata 4.11.3\n",
      "    Uninstalling importlib-metadata-4.11.3:\n",
      "      Successfully uninstalled importlib-metadata-4.11.3\n",
      "  Attempting uninstall: grpcio\n",
      "    Found existing installation: grpcio 1.51.1\n",
      "    Uninstalling grpcio-1.51.1:\n",
      "      Successfully uninstalled grpcio-1.51.1\n",
      "  Attempting uninstall: bcrypt\n",
      "    Found existing installation: bcrypt 3.2.0\n",
      "    Uninstalling bcrypt-3.2.0:\n",
      "      Successfully uninstalled bcrypt-3.2.0\n",
      "  Attempting uninstall: anyio\n",
      "    Found existing installation: anyio 3.5.0\n",
      "    Uninstalling anyio-3.5.0:\n",
      "      Successfully uninstalled anyio-3.5.0\n",
      "Successfully installed annotated-types-0.6.0 anyio-3.7.1 asgiref-3.7.2 backoff-2.2.1 bcrypt-4.1.1 chroma-hnswlib-0.7.3 chromadb-0.4.20 coloredlogs-15.0.1 deprecated-1.2.14 exceptiongroup-1.2.0 fastapi-0.105.0 googleapis-common-protos-1.62.0 grpcio-1.60.0 h11-0.14.0 httptools-0.6.1 humanfriendly-10.0 importlib-metadata-6.11.0 importlib-resources-6.1.1 kubernetes-28.1.0 onnxruntime-1.16.3 opentelemetry-api-1.21.0 opentelemetry-exporter-otlp-proto-common-1.21.0 opentelemetry-exporter-otlp-proto-grpc-1.21.0 opentelemetry-instrumentation-0.42b0 opentelemetry-instrumentation-asgi-0.42b0 opentelemetry-instrumentation-fastapi-0.42b0 opentelemetry-sdk-1.21.0 posthog-3.1.0 pydantic-2.5.2 pydantic-core-2.14.5 starlette-0.27.0 typer-0.9.0 uvicorn-0.24.0.post1 watchfiles-0.21.0\n"
     ]
    }
   ],
   "source": [
    "!pip install chromadb"
   ]
  },
  {
   "cell_type": "code",
   "execution_count": 40,
   "id": "4d850f38-1c2a-4407-b88b-460610069f11",
   "metadata": {},
   "outputs": [],
   "source": [
    "import chromadb"
   ]
  },
  {
   "cell_type": "code",
   "execution_count": 66,
   "id": "e3f77a61-93a0-488e-a4ce-036ce702b204",
   "metadata": {},
   "outputs": [],
   "source": [
    "chroma_client = chromadb.Client()"
   ]
  },
  {
   "cell_type": "code",
   "execution_count": 92,
   "id": "e2bdd2a7-2739-407c-8a2b-9eeb4dd5fbe4",
   "metadata": {},
   "outputs": [],
   "source": [
    "collection = chroma_client.get_or_create_collection('war_news_metadata_db')"
   ]
  },
  {
   "cell_type": "code",
   "execution_count": 93,
   "id": "98d3fce0-575d-4c70-bbb9-27f3009af5e4",
   "metadata": {},
   "outputs": [],
   "source": [
    "news_df_filtered['news_id'] = news_df_filtered.index"
   ]
  },
  {
   "cell_type": "code",
   "execution_count": 94,
   "id": "17b0177f-45d8-4417-90db-32b2e035430b",
   "metadata": {},
   "outputs": [],
   "source": [
    "news_df_filtered.news_id = news_df_filtered['news_id'].astype(str)"
   ]
  },
  {
   "cell_type": "code",
   "execution_count": 95,
   "id": "a176cd04-e3ae-4758-952f-6193e205b840",
   "metadata": {},
   "outputs": [],
   "source": [
    "news_id = news_df_filtered.news_id.to_list()"
   ]
  },
  {
   "cell_type": "code",
   "execution_count": 96,
   "id": "6950c2a7-187f-48b5-85f5-1075ec557f50",
   "metadata": {},
   "outputs": [],
   "source": [
    "meta_data = news_df_filtered.to_dict(orient='records')"
   ]
  },
  {
   "cell_type": "code",
   "execution_count": 99,
   "id": "7c138750-b8ae-435d-bb2a-33b7d8f4ccd3",
   "metadata": {},
   "outputs": [],
   "source": [
    "#collection.delete(ids=news_id)\n",
    "collection.add(ids=news_id, embeddings=embeddings_list, metadatas=meta_data)"
   ]
  },
  {
   "cell_type": "code",
   "execution_count": 127,
   "id": "7503fcae-1de9-4fae-ad14-ce4b46dd0258",
   "metadata": {},
   "outputs": [],
   "source": [
    "current_news = news_df_filtered.sample(1, random_state=0)"
   ]
  },
  {
   "cell_type": "code",
   "execution_count": 128,
   "id": "0b43803d-f074-477e-865b-6c2c1443e9c0",
   "metadata": {},
   "outputs": [
    {
     "data": {
      "text/html": [
       "<div>\n",
       "<style scoped>\n",
       "    .dataframe tbody tr th:only-of-type {\n",
       "        vertical-align: middle;\n",
       "    }\n",
       "\n",
       "    .dataframe tbody tr th {\n",
       "        vertical-align: top;\n",
       "    }\n",
       "\n",
       "    .dataframe thead th {\n",
       "        text-align: right;\n",
       "    }\n",
       "</style>\n",
       "<table border=\"1\" class=\"dataframe\">\n",
       "  <thead>\n",
       "    <tr style=\"text-align: right;\">\n",
       "      <th></th>\n",
       "      <th>Headlines</th>\n",
       "      <th>Summary</th>\n",
       "      <th>Press</th>\n",
       "      <th>Date</th>\n",
       "      <th>Keyword</th>\n",
       "      <th>news_id</th>\n",
       "    </tr>\n",
       "  </thead>\n",
       "  <tbody>\n",
       "    <tr>\n",
       "      <th>4610</th>\n",
       "      <td>Latest Russia-Ukraine War news: Live updates</td>\n",
       "      <td>A U.N. official said the global body received ...</td>\n",
       "      <td>The Washington Post</td>\n",
       "      <td>LIVE</td>\n",
       "      <td>Ukraine</td>\n",
       "      <td>4610</td>\n",
       "    </tr>\n",
       "  </tbody>\n",
       "</table>\n",
       "</div>"
      ],
      "text/plain": [
       "                                         Headlines  \\\n",
       "4610  Latest Russia-Ukraine War news: Live updates   \n",
       "\n",
       "                                                Summary                Press  \\\n",
       "4610  A U.N. official said the global body received ...  The Washington Post   \n",
       "\n",
       "      Date  Keyword news_id  \n",
       "4610  LIVE  Ukraine    4610  "
      ]
     },
     "execution_count": 128,
     "metadata": {},
     "output_type": "execute_result"
    }
   ],
   "source": [
    "current_news"
   ]
  },
  {
   "cell_type": "code",
   "execution_count": 129,
   "id": "a18eb071-fa44-4976-99e4-964b66a722ac",
   "metadata": {},
   "outputs": [],
   "source": [
    "current_news_id = current_news.index.values[0]"
   ]
  },
  {
   "cell_type": "code",
   "execution_count": 130,
   "id": "12861c06-7c90-421b-ba0c-310818c11853",
   "metadata": {},
   "outputs": [
    {
     "data": {
      "text/plain": [
       "4610"
      ]
     },
     "execution_count": 130,
     "metadata": {},
     "output_type": "execute_result"
    }
   ],
   "source": [
    "current_news_id"
   ]
  },
  {
   "cell_type": "code",
   "execution_count": 131,
   "id": "e8ee024b-6a93-46cd-9460-dc2791d05ab7",
   "metadata": {},
   "outputs": [],
   "source": [
    "current_news_meta_data = collection.get(ids=[str(current_news_id)], include=['embeddings'])"
   ]
  },
  {
   "cell_type": "code",
   "execution_count": null,
   "id": "e577ae61-c41d-4cee-afb5-6eec960d80a0",
   "metadata": {},
   "outputs": [],
   "source": []
  },
  {
   "cell_type": "code",
   "execution_count": 132,
   "id": "65b4e373-8738-4a8e-85d8-3e6c8ae21d06",
   "metadata": {},
   "outputs": [],
   "source": [
    "query = current_news_meta_data['embeddings']"
   ]
  },
  {
   "cell_type": "code",
   "execution_count": null,
   "id": "6e02771e-1542-43a8-9d0b-a72423b6fea2",
   "metadata": {},
   "outputs": [],
   "source": []
  },
  {
   "cell_type": "code",
   "execution_count": 137,
   "id": "a9ec9bbd-dbd1-49ca-8bde-e8e7dd17f6d3",
   "metadata": {},
   "outputs": [],
   "source": [
    "result = collection.query(query_embeddings=query, n_results=5)"
   ]
  },
  {
   "cell_type": "code",
   "execution_count": 138,
   "id": "c285ed14-1091-48ae-a173-10b8ec259301",
   "metadata": {},
   "outputs": [
    {
     "data": {
      "text/plain": [
       "{'ids': [['4610', '4017', '3904', '4687', '4652']],\n",
       " 'distances': [[0.0,\n",
       "   8.605719566345215,\n",
       "   8.62691879272461,\n",
       "   9.975563049316406,\n",
       "   10.395176887512207]],\n",
       " 'metadatas': [[{'Date': 'LIVE',\n",
       "    'Headlines': 'Latest Russia-Ukraine War news: Live updates',\n",
       "    'Keyword': 'Ukraine',\n",
       "    'Press': 'The Washington Post',\n",
       "    'Summary': 'A U.N. official said the global body received “credible information” that \\r\\nUkrainian forces violated the rights of Russian prisoners of war —...',\n",
       "    'news_id': '4610'},\n",
       "   {'Date': '3 weeks ago',\n",
       "    'Headlines': 'The U.N. Is an Enabler of Russian War Crimes',\n",
       "    'Keyword': 'Russia',\n",
       "    'Press': 'Wall Street Journal',\n",
       "    'Summary': 'The world was horrified by the mass killing of innocent civilians in Bucha. \\r\\nRussian soldiers violated all existing rules and laws of war, raping...',\n",
       "    'news_id': '4017'},\n",
       "   {'Date': '1 month ago',\n",
       "    'Headlines': 'Ukraine: Apparent War Crimes in Russia-Controlled Areas',\n",
       "    'Keyword': 'Russia',\n",
       "    'Press': 'Human Rights Watch',\n",
       "    'Summary': 'Human Rights Watch has documented several cases of Russian military forces \\r\\ncommitting laws-of-war violations against civilians in occupied...',\n",
       "    'news_id': '3904'},\n",
       "   {'Date': '3 weeks ago',\n",
       "    'Headlines': 'Russia-Ukraine war: what we know on day 53 of the invasion',\n",
       "    'Keyword': 'Ukraine',\n",
       "    'Press': 'The Guardian',\n",
       "    'Summary': 'Mariupol forces defy Russian demand for surrender, as European Commission \\r\\nchief urges fast supply of arms to Ukraine. Russia-Ukraine war:...',\n",
       "    'news_id': '4687'},\n",
       "   {'Date': '3 weeks ago',\n",
       "    'Headlines': 'Russia-Ukraine war: List of key events, day 56',\n",
       "    'Keyword': 'Ukraine',\n",
       "    'Press': 'Al Jazeera',\n",
       "    'Summary': \"Russia handed over 60 soldiers and 16 civilians to Ukraine in the fifth \\r\\nsuch exchange of prisoners of war, Ukraine's deputy prime minister...\",\n",
       "    'news_id': '4652'}]],\n",
       " 'embeddings': None,\n",
       " 'documents': [[None, None, None, None, None]],\n",
       " 'uris': None,\n",
       " 'data': None}"
      ]
     },
     "execution_count": 138,
     "metadata": {},
     "output_type": "execute_result"
    }
   ],
   "source": [
    "result"
   ]
  },
  {
   "cell_type": "markdown",
   "id": "13c0ed30-98eb-4d0a-b735-2fa9c30982a0",
   "metadata": {},
   "source": [
    "# Reranking"
   ]
  },
  {
   "cell_type": "code",
   "execution_count": 146,
   "id": "bca83e78",
   "metadata": {},
   "outputs": [
    {
     "data": {
      "text/plain": [
       "numpy.int64"
      ]
     },
     "execution_count": 146,
     "metadata": {},
     "output_type": "execute_result"
    }
   ],
   "source": [
    "type(current_news_id)"
   ]
  },
  {
   "cell_type": "code",
   "execution_count": 148,
   "id": "2613ccd8-e752-4725-9137-5e83e09a872c",
   "metadata": {},
   "outputs": [],
   "source": [
    "reranked_result = collection.query(query_embeddings=query, n_results=5, where={'news_id': {'$ne' : str(current_news_id)}})"
   ]
  },
  {
   "cell_type": "code",
   "execution_count": 149,
   "id": "8fe988a4-6112-4ea2-963f-6e3a760b13ff",
   "metadata": {},
   "outputs": [
    {
     "data": {
      "text/plain": [
       "{'ids': [['4017', '3904', '4687', '4652', '3913']],\n",
       " 'distances': [[8.605719566345215,\n",
       "   8.62691879272461,\n",
       "   9.975563049316406,\n",
       "   10.395176887512207,\n",
       "   10.401066780090332]],\n",
       " 'metadatas': [[{'Date': '3 weeks ago',\n",
       "    'Headlines': 'The U.N. Is an Enabler of Russian War Crimes',\n",
       "    'Keyword': 'Russia',\n",
       "    'Press': 'Wall Street Journal',\n",
       "    'Summary': 'The world was horrified by the mass killing of innocent civilians in Bucha. \\r\\nRussian soldiers violated all existing rules and laws of war, raping...',\n",
       "    'news_id': '4017'},\n",
       "   {'Date': '1 month ago',\n",
       "    'Headlines': 'Ukraine: Apparent War Crimes in Russia-Controlled Areas',\n",
       "    'Keyword': 'Russia',\n",
       "    'Press': 'Human Rights Watch',\n",
       "    'Summary': 'Human Rights Watch has documented several cases of Russian military forces \\r\\ncommitting laws-of-war violations against civilians in occupied...',\n",
       "    'news_id': '3904'},\n",
       "   {'Date': '3 weeks ago',\n",
       "    'Headlines': 'Russia-Ukraine war: what we know on day 53 of the invasion',\n",
       "    'Keyword': 'Ukraine',\n",
       "    'Press': 'The Guardian',\n",
       "    'Summary': 'Mariupol forces defy Russian demand for surrender, as European Commission \\r\\nchief urges fast supply of arms to Ukraine. Russia-Ukraine war:...',\n",
       "    'news_id': '4687'},\n",
       "   {'Date': '3 weeks ago',\n",
       "    'Headlines': 'Russia-Ukraine war: List of key events, day 56',\n",
       "    'Keyword': 'Ukraine',\n",
       "    'Press': 'Al Jazeera',\n",
       "    'Summary': \"Russia handed over 60 soldiers and 16 civilians to Ukraine in the fifth \\r\\nsuch exchange of prisoners of war, Ukraine's deputy prime minister...\",\n",
       "    'news_id': '4652'},\n",
       "   {'Date': 'LIVE',\n",
       "    'Headlines': \"Russia Ukraine War News Live Updates: Russia's military ...\",\n",
       "    'Keyword': 'Russia',\n",
       "    'Press': 'Times of India',\n",
       "    'Summary': 'Russia-Ukraine war LIVE updates: Putin determined to take war beyond Donbas \\r\\nto ... Russian troops pounded away at the vital port of Odesa,...',\n",
       "    'news_id': '3913'}]],\n",
       " 'embeddings': None,\n",
       " 'documents': [[None, None, None, None, None]],\n",
       " 'uris': None,\n",
       " 'data': None}"
      ]
     },
     "execution_count": 149,
     "metadata": {},
     "output_type": "execute_result"
    }
   ],
   "source": [
    "reranked_result"
   ]
  },
  {
   "cell_type": "code",
   "execution_count": 150,
   "id": "25a74ed7-3839-4298-824b-4d54bb7a840b",
   "metadata": {},
   "outputs": [],
   "source": [
    "recommendations = pd.DataFrame(reranked_result['metadatas'][0])"
   ]
  },
  {
   "cell_type": "code",
   "execution_count": 151,
   "id": "b9bae343-2662-4392-aa7c-538cc0ae8ce2",
   "metadata": {},
   "outputs": [
    {
     "data": {
      "text/html": [
       "<div>\n",
       "<style scoped>\n",
       "    .dataframe tbody tr th:only-of-type {\n",
       "        vertical-align: middle;\n",
       "    }\n",
       "\n",
       "    .dataframe tbody tr th {\n",
       "        vertical-align: top;\n",
       "    }\n",
       "\n",
       "    .dataframe thead th {\n",
       "        text-align: right;\n",
       "    }\n",
       "</style>\n",
       "<table border=\"1\" class=\"dataframe\">\n",
       "  <thead>\n",
       "    <tr style=\"text-align: right;\">\n",
       "      <th></th>\n",
       "      <th>Date</th>\n",
       "      <th>Headlines</th>\n",
       "      <th>Keyword</th>\n",
       "      <th>Press</th>\n",
       "      <th>Summary</th>\n",
       "      <th>news_id</th>\n",
       "    </tr>\n",
       "  </thead>\n",
       "  <tbody>\n",
       "    <tr>\n",
       "      <th>0</th>\n",
       "      <td>3 weeks ago</td>\n",
       "      <td>The U.N. Is an Enabler of Russian War Crimes</td>\n",
       "      <td>Russia</td>\n",
       "      <td>Wall Street Journal</td>\n",
       "      <td>The world was horrified by the mass killing of...</td>\n",
       "      <td>4017</td>\n",
       "    </tr>\n",
       "    <tr>\n",
       "      <th>1</th>\n",
       "      <td>1 month ago</td>\n",
       "      <td>Ukraine: Apparent War Crimes in Russia-Control...</td>\n",
       "      <td>Russia</td>\n",
       "      <td>Human Rights Watch</td>\n",
       "      <td>Human Rights Watch has documented several case...</td>\n",
       "      <td>3904</td>\n",
       "    </tr>\n",
       "    <tr>\n",
       "      <th>2</th>\n",
       "      <td>3 weeks ago</td>\n",
       "      <td>Russia-Ukraine war: what we know on day 53 of ...</td>\n",
       "      <td>Ukraine</td>\n",
       "      <td>The Guardian</td>\n",
       "      <td>Mariupol forces defy Russian demand for surren...</td>\n",
       "      <td>4687</td>\n",
       "    </tr>\n",
       "    <tr>\n",
       "      <th>3</th>\n",
       "      <td>3 weeks ago</td>\n",
       "      <td>Russia-Ukraine war: List of key events, day 56</td>\n",
       "      <td>Ukraine</td>\n",
       "      <td>Al Jazeera</td>\n",
       "      <td>Russia handed over 60 soldiers and 16 civilian...</td>\n",
       "      <td>4652</td>\n",
       "    </tr>\n",
       "    <tr>\n",
       "      <th>4</th>\n",
       "      <td>LIVE</td>\n",
       "      <td>Russia Ukraine War News Live Updates: Russia's...</td>\n",
       "      <td>Russia</td>\n",
       "      <td>Times of India</td>\n",
       "      <td>Russia-Ukraine war LIVE updates: Putin determi...</td>\n",
       "      <td>3913</td>\n",
       "    </tr>\n",
       "  </tbody>\n",
       "</table>\n",
       "</div>"
      ],
      "text/plain": [
       "          Date                                          Headlines  Keyword  \\\n",
       "0  3 weeks ago       The U.N. Is an Enabler of Russian War Crimes   Russia   \n",
       "1  1 month ago  Ukraine: Apparent War Crimes in Russia-Control...   Russia   \n",
       "2  3 weeks ago  Russia-Ukraine war: what we know on day 53 of ...  Ukraine   \n",
       "3  3 weeks ago     Russia-Ukraine war: List of key events, day 56  Ukraine   \n",
       "4         LIVE  Russia Ukraine War News Live Updates: Russia's...   Russia   \n",
       "\n",
       "                 Press                                            Summary  \\\n",
       "0  Wall Street Journal  The world was horrified by the mass killing of...   \n",
       "1   Human Rights Watch  Human Rights Watch has documented several case...   \n",
       "2         The Guardian  Mariupol forces defy Russian demand for surren...   \n",
       "3           Al Jazeera  Russia handed over 60 soldiers and 16 civilian...   \n",
       "4       Times of India  Russia-Ukraine war LIVE updates: Putin determi...   \n",
       "\n",
       "  news_id  \n",
       "0    4017  \n",
       "1    3904  \n",
       "2    4687  \n",
       "3    4652  \n",
       "4    3913  "
      ]
     },
     "execution_count": 151,
     "metadata": {},
     "output_type": "execute_result"
    }
   ],
   "source": [
    "recommendations"
   ]
  },
  {
   "cell_type": "code",
   "execution_count": 152,
   "id": "f4657dd8-d2ba-407d-978e-4a01c2649341",
   "metadata": {},
   "outputs": [],
   "source": [
    "recommendations['distance'] = reranked_result['distances'][0]"
   ]
  },
  {
   "cell_type": "code",
   "execution_count": 153,
   "id": "db50b229-c5ae-4eaf-b8a1-e217d76d229c",
   "metadata": {},
   "outputs": [
    {
     "data": {
      "text/html": [
       "<div>\n",
       "<style scoped>\n",
       "    .dataframe tbody tr th:only-of-type {\n",
       "        vertical-align: middle;\n",
       "    }\n",
       "\n",
       "    .dataframe tbody tr th {\n",
       "        vertical-align: top;\n",
       "    }\n",
       "\n",
       "    .dataframe thead th {\n",
       "        text-align: right;\n",
       "    }\n",
       "</style>\n",
       "<table border=\"1\" class=\"dataframe\">\n",
       "  <thead>\n",
       "    <tr style=\"text-align: right;\">\n",
       "      <th></th>\n",
       "      <th>Date</th>\n",
       "      <th>Headlines</th>\n",
       "      <th>Keyword</th>\n",
       "      <th>Press</th>\n",
       "      <th>Summary</th>\n",
       "      <th>news_id</th>\n",
       "      <th>distance</th>\n",
       "    </tr>\n",
       "  </thead>\n",
       "  <tbody>\n",
       "    <tr>\n",
       "      <th>0</th>\n",
       "      <td>3 weeks ago</td>\n",
       "      <td>The U.N. Is an Enabler of Russian War Crimes</td>\n",
       "      <td>Russia</td>\n",
       "      <td>Wall Street Journal</td>\n",
       "      <td>The world was horrified by the mass killing of...</td>\n",
       "      <td>4017</td>\n",
       "      <td>8.605720</td>\n",
       "    </tr>\n",
       "    <tr>\n",
       "      <th>1</th>\n",
       "      <td>1 month ago</td>\n",
       "      <td>Ukraine: Apparent War Crimes in Russia-Control...</td>\n",
       "      <td>Russia</td>\n",
       "      <td>Human Rights Watch</td>\n",
       "      <td>Human Rights Watch has documented several case...</td>\n",
       "      <td>3904</td>\n",
       "      <td>8.626919</td>\n",
       "    </tr>\n",
       "    <tr>\n",
       "      <th>2</th>\n",
       "      <td>3 weeks ago</td>\n",
       "      <td>Russia-Ukraine war: what we know on day 53 of ...</td>\n",
       "      <td>Ukraine</td>\n",
       "      <td>The Guardian</td>\n",
       "      <td>Mariupol forces defy Russian demand for surren...</td>\n",
       "      <td>4687</td>\n",
       "      <td>9.975563</td>\n",
       "    </tr>\n",
       "    <tr>\n",
       "      <th>3</th>\n",
       "      <td>3 weeks ago</td>\n",
       "      <td>Russia-Ukraine war: List of key events, day 56</td>\n",
       "      <td>Ukraine</td>\n",
       "      <td>Al Jazeera</td>\n",
       "      <td>Russia handed over 60 soldiers and 16 civilian...</td>\n",
       "      <td>4652</td>\n",
       "      <td>10.395177</td>\n",
       "    </tr>\n",
       "    <tr>\n",
       "      <th>4</th>\n",
       "      <td>LIVE</td>\n",
       "      <td>Russia Ukraine War News Live Updates: Russia's...</td>\n",
       "      <td>Russia</td>\n",
       "      <td>Times of India</td>\n",
       "      <td>Russia-Ukraine war LIVE updates: Putin determi...</td>\n",
       "      <td>3913</td>\n",
       "      <td>10.401067</td>\n",
       "    </tr>\n",
       "  </tbody>\n",
       "</table>\n",
       "</div>"
      ],
      "text/plain": [
       "          Date                                          Headlines  Keyword  \\\n",
       "0  3 weeks ago       The U.N. Is an Enabler of Russian War Crimes   Russia   \n",
       "1  1 month ago  Ukraine: Apparent War Crimes in Russia-Control...   Russia   \n",
       "2  3 weeks ago  Russia-Ukraine war: what we know on day 53 of ...  Ukraine   \n",
       "3  3 weeks ago     Russia-Ukraine war: List of key events, day 56  Ukraine   \n",
       "4         LIVE  Russia Ukraine War News Live Updates: Russia's...   Russia   \n",
       "\n",
       "                 Press                                            Summary  \\\n",
       "0  Wall Street Journal  The world was horrified by the mass killing of...   \n",
       "1   Human Rights Watch  Human Rights Watch has documented several case...   \n",
       "2         The Guardian  Mariupol forces defy Russian demand for surren...   \n",
       "3           Al Jazeera  Russia handed over 60 soldiers and 16 civilian...   \n",
       "4       Times of India  Russia-Ukraine war LIVE updates: Putin determi...   \n",
       "\n",
       "  news_id   distance  \n",
       "0    4017   8.605720  \n",
       "1    3904   8.626919  \n",
       "2    4687   9.975563  \n",
       "3    4652  10.395177  \n",
       "4    3913  10.401067  "
      ]
     },
     "execution_count": 153,
     "metadata": {},
     "output_type": "execute_result"
    }
   ],
   "source": [
    "recommendations"
   ]
  },
  {
   "cell_type": "code",
   "execution_count": 159,
   "id": "775a457d-8f1f-41eb-b35d-d2c0a26ba82f",
   "metadata": {},
   "outputs": [
    {
     "data": {
      "image/png": "[encoded data removed]",
      "text/plain": [
       "<Figure size 800x800 with 1 Axes>"
      ]
     },
     "metadata": {},
     "output_type": "display_data"
    }
   ],
   "source": [
    "import pandas as pd\n",
    "import matplotlib.pyplot as plt\n",
    "import numpy as np\n",
    "\n",
    "\n",
    "\n",
    "# Normalize distances to a range of [0, 1]\n",
    "normalized_distances = (recommendations['distance'] - recommendations['distance'].min()) / (\n",
    "        recommendations['distance'].max() - recommendations['distance'].min())\n",
    "\n",
    "# Create a polar plot\n",
    "angles = np.linspace(0, 2 * np.pi, len(normalized_distances), endpoint=False).tolist()\n",
    "\n",
    "fig, ax = plt.subplots(figsize=(8, 8), subplot_kw=dict(polar=True))\n",
    "ax.fill(angles, normalized_distances, color='blue', alpha=0.25)\n",
    "ax.plot(angles, normalized_distances, color='blue', linewidth=2)\n",
    "ax.set_ylim(0, 1)\n",
    "\n",
    "# Set the labels for each headline at respective angles\n",
    "ax.set_xticks(angles)\n",
    "ax.set_xticklabels(recommendations['Headlines'], fontsize=8)\n",
    "plt.title('News Relativeness')\n",
    "plt.show()\n"
   ]
  },
  {
   "cell_type": "code",
   "execution_count": null,
   "id": "eeee1071",
   "metadata": {},
   "outputs": [],
   "source": []
  }
 ],
 "metadata": {
  "kernelspec": {
   "display_name": "Python 3 (ipykernel)",
   "language": "python",
   "name": "python3"
  },
  "language_info": {
   "codemirror_mode": {
    "name": "ipython",
    "version": 3
   },
   "file_extension": ".py",
   "mimetype": "text/x-python",
   "name": "python",
   "nbconvert_exporter": "python",
   "pygments_lexer": "ipython3",
   "version": "3.9.13"
  }
 },
 "nbformat": 4,
 "nbformat_minor": 5
}
